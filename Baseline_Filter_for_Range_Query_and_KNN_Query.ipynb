{
 "cells": [
  {
   "cell_type": "markdown",
   "id": "0355e7bf",
   "metadata": {},
   "source": [
    "This notebook implements filtering method for Range Query and K Nearest Neighbor (KNN) Query for trajectories. \n",
    "<br> The Range query searches for trajectories intersects with certain region, the KNN query searches for k trajectories that are most similar to the queried trajectory\n",
    "<br>\n",
    "<br> The filtering methods for Range Query is based on standard R tree, which stores spatial data points, and a mapping table, which maps each spatial point to its trajectory. To answer the query, spatial points that falling in the queried region are found first, then trajectories can be got from the mapping table. Such filtering method is from paper **[A Survey on Trajectory Data Management, Analytics, and Learning](https://dl.acm.org/doi/abs/10.1145/3440207?casa_token=tgWxx9HB74IAAAAA:355HzTdWPihskkv9Jdrb295eV_YFu5md-r5O9xaBcB4U_OI_gaIqCNM85ZtVFqxoNkDfjDrJaX2ZTA)**\n",
    "<br> \n",
    "<br> For KNN Queries, the first issue is to define a distance measurements to measure the “similarities”. With various metrics exist, this notebook uses EDR distance, namely Edit Distance on Real Sequence, which is proposed from paper **[Robust and Fast Similarity Search for Moving Object Trajectories](https://dl.acm.org/doi/abs/10.1145/1066157.1066213?casa_token=RuMLiW3d9q4AAAAA:62IkecVUAm9Z5L2NmkReMhuaVl_-Y-vSIw00wB6OeTTluQo9tww2wy9Ew16On7aYbrqx2lhuZU8baw)** The built filtering method is also from the paper.\n",
    "\n",
    "\n"
   ]
  },
  {
   "cell_type": "code",
   "execution_count": 390,
   "id": "8b34e1c2",
   "metadata": {},
   "outputs": [],
   "source": [
    "from rtree import index\n",
    "import os\n",
    "import json\n",
    "import pandas as pd\n",
    "import numpy as np\n",
    "from haversine import haversine, Unit\n",
    "from sklearn.cluster import KMeans\n",
    "import math\n",
    "import geopy\n",
    "from geopy.distance import geodesic"
   ]
  },
  {
   "cell_type": "code",
   "execution_count": 91,
   "id": "7f262a89",
   "metadata": {},
   "outputs": [
    {
     "data": {
      "text/plain": [
       "'3.11.3'"
      ]
     },
     "execution_count": 91,
     "metadata": {},
     "output_type": "execute_result"
    }
   ],
   "source": [
    "from platform import python_version\n",
    "python_version()"
   ]
  },
  {
   "cell_type": "markdown",
   "id": "257c44bf",
   "metadata": {},
   "source": [
    "# Using Python's rtree library https://rtree.readthedocs.io/en/latest/"
   ]
  },
  {
   "cell_type": "code",
   "execution_count": 92,
   "id": "826c68ba",
   "metadata": {},
   "outputs": [],
   "source": [
    "root_path = '/Users/osako15/Desktop/GPS_Path/Code/Geolife_Trajectories_1.3/Data'\n",
    "\n",
    "user_list = []\n",
    "\n",
    "for f in os.listdir(root_path):\n",
    "    if len(f) == 3:\n",
    "        user_list.append(f)"
   ]
  },
  {
   "cell_type": "code",
   "execution_count": 93,
   "id": "968cee73",
   "metadata": {},
   "outputs": [
    {
     "data": {
      "text/plain": [
       "182"
      ]
     },
     "execution_count": 93,
     "metadata": {},
     "output_type": "execute_result"
    }
   ],
   "source": [
    "len(user_list)"
   ]
  },
  {
   "cell_type": "code",
   "execution_count": 112,
   "id": "37612530",
   "metadata": {},
   "outputs": [],
   "source": [
    "def read_trajectory(file_path, trajectroy):\n",
    "    global num_pts\n",
    "    f = open(file_path, 'r')\n",
    "    count = 1\n",
    "    while count <= 6:\n",
    "        f.readline()\n",
    "        count += 1\n",
    "    while True:\n",
    "        line = f.readline()\n",
    "        if not line:\n",
    "            break\n",
    "        line_list = line.split(\",\")\n",
    "        lon = float(line_list[1])\n",
    "        lat = float(line_list[0])\n",
    "        num_pts += 1\n",
    "        t = line_list[-2] + ' ' + line_list[-1]\n",
    "        pt_id = num_pts\n",
    "        trajectroy.append([pt_id,lat,lon,t])\n",
    "    f.close()"
   ]
  },
  {
   "cell_type": "code",
   "execution_count": 113,
   "id": "f01865f3",
   "metadata": {},
   "outputs": [],
   "source": [
    "Trajectoies = {}\n",
    "\n",
    "num_pts = 0\n",
    "num_trj = 0\n",
    "\n",
    "for user in user_list:\n",
    "    user_path = root_path + '/' + user + '/' + 'Trajectory'\n",
    "    for f in os.listdir(user_path):\n",
    "        file_path = user_path + '/' + f\n",
    "        tra_data = []\n",
    "        read_trajectory(file_path, tra_data)\n",
    "        tra_id = num_trj\n",
    "        # tra_id = num_tra\n",
    "        Trajectoies[tra_id] = tra_data\n",
    "        num_trj += 1\n",
    "        "
   ]
  },
  {
   "cell_type": "code",
   "execution_count": 133,
   "id": "c201e274",
   "metadata": {},
   "outputs": [
    {
     "data": {
      "text/plain": [
       "18670"
      ]
     },
     "execution_count": 133,
     "metadata": {},
     "output_type": "execute_result"
    }
   ],
   "source": [
    "len(Trajectoies)"
   ]
  },
  {
   "cell_type": "markdown",
   "id": "b6ca3e80",
   "metadata": {},
   "source": [
    "# let us check if there are any outlier measures"
   ]
  },
  {
   "cell_type": "code",
   "execution_count": 217,
   "id": "fcff38af",
   "metadata": {},
   "outputs": [],
   "source": [
    "lats = []\n",
    "lons = []\n",
    "tra_id = []\n",
    "pt_id = []\n",
    "record_time = []\n",
    "\n",
    "for i in Trajectoies.items():\n",
    "    for j in i[1]:\n",
    "        tra_id.append(i[0])\n",
    "        pt_id.append(j[0])\n",
    "        lats.append(j[1])\n",
    "        lons.append(j[2])\n",
    "        record_time.append(j[3])"
   ]
  },
  {
   "cell_type": "code",
   "execution_count": 220,
   "id": "d50a18c5",
   "metadata": {},
   "outputs": [],
   "source": [
    "traj_df = pd.DataFrame({'trj_id': tra_id, 'pt_id': pt_id, 'lat': lats, 'lon': lons, 'time':record_time})"
   ]
  },
  {
   "cell_type": "code",
   "execution_count": 221,
   "id": "46dd1ece",
   "metadata": {},
   "outputs": [
    {
     "data": {
      "text/plain": [
       "(24876978, 5)"
      ]
     },
     "execution_count": 221,
     "metadata": {},
     "output_type": "execute_result"
    }
   ],
   "source": [
    "traj_df.shape"
   ]
  },
  {
   "cell_type": "code",
   "execution_count": 225,
   "id": "03a3d0f8",
   "metadata": {},
   "outputs": [
    {
     "data": {
      "text/html": [
       "<div>\n",
       "<style scoped>\n",
       "    .dataframe tbody tr th:only-of-type {\n",
       "        vertical-align: middle;\n",
       "    }\n",
       "\n",
       "    .dataframe tbody tr th {\n",
       "        vertical-align: top;\n",
       "    }\n",
       "\n",
       "    .dataframe thead th {\n",
       "        text-align: right;\n",
       "    }\n",
       "</style>\n",
       "<table border=\"1\" class=\"dataframe\">\n",
       "  <thead>\n",
       "    <tr style=\"text-align: right;\">\n",
       "      <th></th>\n",
       "      <th>trj_id</th>\n",
       "      <th>pt_id</th>\n",
       "      <th>lat</th>\n",
       "      <th>lon</th>\n",
       "      <th>time</th>\n",
       "    </tr>\n",
       "  </thead>\n",
       "  <tbody>\n",
       "    <tr>\n",
       "      <th>0</th>\n",
       "      <td>0</td>\n",
       "      <td>1</td>\n",
       "      <td>39.974294</td>\n",
       "      <td>116.399741</td>\n",
       "      <td>2009-01-03 01:21:34\\n</td>\n",
       "    </tr>\n",
       "    <tr>\n",
       "      <th>1</th>\n",
       "      <td>0</td>\n",
       "      <td>2</td>\n",
       "      <td>39.974292</td>\n",
       "      <td>116.399592</td>\n",
       "      <td>2009-01-03 01:21:35\\n</td>\n",
       "    </tr>\n",
       "    <tr>\n",
       "      <th>2</th>\n",
       "      <td>0</td>\n",
       "      <td>3</td>\n",
       "      <td>39.974309</td>\n",
       "      <td>116.399523</td>\n",
       "      <td>2009-01-03 01:21:36\\n</td>\n",
       "    </tr>\n",
       "    <tr>\n",
       "      <th>3</th>\n",
       "      <td>0</td>\n",
       "      <td>4</td>\n",
       "      <td>39.974320</td>\n",
       "      <td>116.399588</td>\n",
       "      <td>2009-01-03 01:21:38\\n</td>\n",
       "    </tr>\n",
       "    <tr>\n",
       "      <th>4</th>\n",
       "      <td>0</td>\n",
       "      <td>5</td>\n",
       "      <td>39.974365</td>\n",
       "      <td>116.399730</td>\n",
       "      <td>2009-01-03 01:21:39\\n</td>\n",
       "    </tr>\n",
       "    <tr>\n",
       "      <th>...</th>\n",
       "      <td>...</td>\n",
       "      <td>...</td>\n",
       "      <td>...</td>\n",
       "      <td>...</td>\n",
       "      <td>...</td>\n",
       "    </tr>\n",
       "    <tr>\n",
       "      <th>24876973</th>\n",
       "      <td>18669</td>\n",
       "      <td>24876974</td>\n",
       "      <td>39.973817</td>\n",
       "      <td>116.324117</td>\n",
       "      <td>2007-07-23 10:02:17\\n</td>\n",
       "    </tr>\n",
       "    <tr>\n",
       "      <th>24876974</th>\n",
       "      <td>18669</td>\n",
       "      <td>24876975</td>\n",
       "      <td>39.973333</td>\n",
       "      <td>116.323683</td>\n",
       "      <td>2007-07-23 10:03:24\\n</td>\n",
       "    </tr>\n",
       "    <tr>\n",
       "      <th>24876975</th>\n",
       "      <td>18669</td>\n",
       "      <td>24876976</td>\n",
       "      <td>39.973733</td>\n",
       "      <td>116.323250</td>\n",
       "      <td>2007-07-23 10:03:58\\n</td>\n",
       "    </tr>\n",
       "    <tr>\n",
       "      <th>24876976</th>\n",
       "      <td>18669</td>\n",
       "      <td>24876977</td>\n",
       "      <td>39.973317</td>\n",
       "      <td>116.322967</td>\n",
       "      <td>2007-07-23 10:05:09\\n</td>\n",
       "    </tr>\n",
       "    <tr>\n",
       "      <th>24876977</th>\n",
       "      <td>18669</td>\n",
       "      <td>24876978</td>\n",
       "      <td>39.973150</td>\n",
       "      <td>116.323283</td>\n",
       "      <td>2007-07-23 10:06:38\\n</td>\n",
       "    </tr>\n",
       "  </tbody>\n",
       "</table>\n",
       "<p>24876978 rows × 5 columns</p>\n",
       "</div>"
      ],
      "text/plain": [
       "          trj_id     pt_id        lat         lon                   time\n",
       "0              0         1  39.974294  116.399741  2009-01-03 01:21:34\\n\n",
       "1              0         2  39.974292  116.399592  2009-01-03 01:21:35\\n\n",
       "2              0         3  39.974309  116.399523  2009-01-03 01:21:36\\n\n",
       "3              0         4  39.974320  116.399588  2009-01-03 01:21:38\\n\n",
       "4              0         5  39.974365  116.399730  2009-01-03 01:21:39\\n\n",
       "...          ...       ...        ...         ...                    ...\n",
       "24876973   18669  24876974  39.973817  116.324117  2007-07-23 10:02:17\\n\n",
       "24876974   18669  24876975  39.973333  116.323683  2007-07-23 10:03:24\\n\n",
       "24876975   18669  24876976  39.973733  116.323250  2007-07-23 10:03:58\\n\n",
       "24876976   18669  24876977  39.973317  116.322967  2007-07-23 10:05:09\\n\n",
       "24876977   18669  24876978  39.973150  116.323283  2007-07-23 10:06:38\\n\n",
       "\n",
       "[24876978 rows x 5 columns]"
      ]
     },
     "execution_count": 225,
     "metadata": {},
     "output_type": "execute_result"
    }
   ],
   "source": [
    "traj_df"
   ]
  },
  {
   "cell_type": "code",
   "execution_count": 146,
   "id": "e6395fbc",
   "metadata": {},
   "outputs": [
    {
     "data": {
      "image/png": "[encoded data removed]",
      "text/plain": [
       "<Figure size 640x480 with 1 Axes>"
      ]
     },
     "metadata": {},
     "output_type": "display_data"
    }
   ],
   "source": [
    "plt.scatter(lats, lons, s=1)\n",
    "plt.show()"
   ]
  },
  {
   "cell_type": "code",
   "execution_count": 226,
   "id": "55932cbe",
   "metadata": {},
   "outputs": [],
   "source": [
    "traj_df2 = traj_df[traj_df['lat'] > 100]"
   ]
  },
  {
   "cell_type": "code",
   "execution_count": 227,
   "id": "ca0e10cd",
   "metadata": {},
   "outputs": [
    {
     "data": {
      "text/plain": [
       "1"
      ]
     },
     "execution_count": 227,
     "metadata": {},
     "output_type": "execute_result"
    }
   ],
   "source": [
    "len(traj_df2)"
   ]
  },
  {
   "cell_type": "code",
   "execution_count": 228,
   "id": "7d8b37ff",
   "metadata": {},
   "outputs": [
    {
     "data": {
      "text/html": [
       "<div>\n",
       "<style scoped>\n",
       "    .dataframe tbody tr th:only-of-type {\n",
       "        vertical-align: middle;\n",
       "    }\n",
       "\n",
       "    .dataframe tbody tr th {\n",
       "        vertical-align: top;\n",
       "    }\n",
       "\n",
       "    .dataframe thead th {\n",
       "        text-align: right;\n",
       "    }\n",
       "</style>\n",
       "<table border=\"1\" class=\"dataframe\">\n",
       "  <thead>\n",
       "    <tr style=\"text-align: right;\">\n",
       "      <th></th>\n",
       "      <th>trj_id</th>\n",
       "      <th>pt_id</th>\n",
       "      <th>lat</th>\n",
       "      <th>lon</th>\n",
       "      <th>time</th>\n",
       "    </tr>\n",
       "  </thead>\n",
       "  <tbody>\n",
       "    <tr>\n",
       "      <th>16650486</th>\n",
       "      <td>13898</td>\n",
       "      <td>16650487</td>\n",
       "      <td>400.166667</td>\n",
       "      <td>116.21539</td>\n",
       "      <td>2011-09-11 03:23:54\\n</td>\n",
       "    </tr>\n",
       "  </tbody>\n",
       "</table>\n",
       "</div>"
      ],
      "text/plain": [
       "          trj_id     pt_id         lat        lon                   time\n",
       "16650486   13898  16650487  400.166667  116.21539  2011-09-11 03:23:54\\n"
      ]
     },
     "execution_count": 228,
     "metadata": {},
     "output_type": "execute_result"
    }
   ],
   "source": [
    "traj_df2"
   ]
  },
  {
   "cell_type": "code",
   "execution_count": 236,
   "id": "2c014e77",
   "metadata": {},
   "outputs": [],
   "source": [
    "traj_df3 = traj_df[traj_df['trj_id'] != 13898]"
   ]
  },
  {
   "cell_type": "code",
   "execution_count": 237,
   "id": "1bd11bea",
   "metadata": {},
   "outputs": [
    {
     "data": {
      "text/plain": [
       "24854983"
      ]
     },
     "execution_count": 237,
     "metadata": {},
     "output_type": "execute_result"
    }
   ],
   "source": [
    "len(traj_df3)"
   ]
  },
  {
   "cell_type": "code",
   "execution_count": 238,
   "id": "f863ef1a",
   "metadata": {},
   "outputs": [
    {
     "data": {
      "text/plain": [
       "24876978"
      ]
     },
     "execution_count": 238,
     "metadata": {},
     "output_type": "execute_result"
    }
   ],
   "source": [
    "len(traj_df)"
   ]
  },
  {
   "cell_type": "code",
   "execution_count": 239,
   "id": "7a5a69ab",
   "metadata": {},
   "outputs": [
    {
     "data": {
      "text/html": [
       "<div>\n",
       "<style scoped>\n",
       "    .dataframe tbody tr th:only-of-type {\n",
       "        vertical-align: middle;\n",
       "    }\n",
       "\n",
       "    .dataframe tbody tr th {\n",
       "        vertical-align: top;\n",
       "    }\n",
       "\n",
       "    .dataframe thead th {\n",
       "        text-align: right;\n",
       "    }\n",
       "</style>\n",
       "<table border=\"1\" class=\"dataframe\">\n",
       "  <thead>\n",
       "    <tr style=\"text-align: right;\">\n",
       "      <th></th>\n",
       "      <th>trj_id</th>\n",
       "      <th>pt_id</th>\n",
       "      <th>lat</th>\n",
       "      <th>lon</th>\n",
       "      <th>time</th>\n",
       "    </tr>\n",
       "  </thead>\n",
       "  <tbody>\n",
       "    <tr>\n",
       "      <th>0</th>\n",
       "      <td>0</td>\n",
       "      <td>1</td>\n",
       "      <td>39.974294</td>\n",
       "      <td>116.399741</td>\n",
       "      <td>2009-01-03 01:21:34\\n</td>\n",
       "    </tr>\n",
       "    <tr>\n",
       "      <th>1</th>\n",
       "      <td>0</td>\n",
       "      <td>2</td>\n",
       "      <td>39.974292</td>\n",
       "      <td>116.399592</td>\n",
       "      <td>2009-01-03 01:21:35\\n</td>\n",
       "    </tr>\n",
       "    <tr>\n",
       "      <th>2</th>\n",
       "      <td>0</td>\n",
       "      <td>3</td>\n",
       "      <td>39.974309</td>\n",
       "      <td>116.399523</td>\n",
       "      <td>2009-01-03 01:21:36\\n</td>\n",
       "    </tr>\n",
       "    <tr>\n",
       "      <th>3</th>\n",
       "      <td>0</td>\n",
       "      <td>4</td>\n",
       "      <td>39.974320</td>\n",
       "      <td>116.399588</td>\n",
       "      <td>2009-01-03 01:21:38\\n</td>\n",
       "    </tr>\n",
       "    <tr>\n",
       "      <th>4</th>\n",
       "      <td>0</td>\n",
       "      <td>5</td>\n",
       "      <td>39.974365</td>\n",
       "      <td>116.399730</td>\n",
       "      <td>2009-01-03 01:21:39\\n</td>\n",
       "    </tr>\n",
       "    <tr>\n",
       "      <th>...</th>\n",
       "      <td>...</td>\n",
       "      <td>...</td>\n",
       "      <td>...</td>\n",
       "      <td>...</td>\n",
       "      <td>...</td>\n",
       "    </tr>\n",
       "    <tr>\n",
       "      <th>24876973</th>\n",
       "      <td>18669</td>\n",
       "      <td>24876974</td>\n",
       "      <td>39.973817</td>\n",
       "      <td>116.324117</td>\n",
       "      <td>2007-07-23 10:02:17\\n</td>\n",
       "    </tr>\n",
       "    <tr>\n",
       "      <th>24876974</th>\n",
       "      <td>18669</td>\n",
       "      <td>24876975</td>\n",
       "      <td>39.973333</td>\n",
       "      <td>116.323683</td>\n",
       "      <td>2007-07-23 10:03:24\\n</td>\n",
       "    </tr>\n",
       "    <tr>\n",
       "      <th>24876975</th>\n",
       "      <td>18669</td>\n",
       "      <td>24876976</td>\n",
       "      <td>39.973733</td>\n",
       "      <td>116.323250</td>\n",
       "      <td>2007-07-23 10:03:58\\n</td>\n",
       "    </tr>\n",
       "    <tr>\n",
       "      <th>24876976</th>\n",
       "      <td>18669</td>\n",
       "      <td>24876977</td>\n",
       "      <td>39.973317</td>\n",
       "      <td>116.322967</td>\n",
       "      <td>2007-07-23 10:05:09\\n</td>\n",
       "    </tr>\n",
       "    <tr>\n",
       "      <th>24876977</th>\n",
       "      <td>18669</td>\n",
       "      <td>24876978</td>\n",
       "      <td>39.973150</td>\n",
       "      <td>116.323283</td>\n",
       "      <td>2007-07-23 10:06:38\\n</td>\n",
       "    </tr>\n",
       "  </tbody>\n",
       "</table>\n",
       "<p>24854983 rows × 5 columns</p>\n",
       "</div>"
      ],
      "text/plain": [
       "          trj_id     pt_id        lat         lon                   time\n",
       "0              0         1  39.974294  116.399741  2009-01-03 01:21:34\\n\n",
       "1              0         2  39.974292  116.399592  2009-01-03 01:21:35\\n\n",
       "2              0         3  39.974309  116.399523  2009-01-03 01:21:36\\n\n",
       "3              0         4  39.974320  116.399588  2009-01-03 01:21:38\\n\n",
       "4              0         5  39.974365  116.399730  2009-01-03 01:21:39\\n\n",
       "...          ...       ...        ...         ...                    ...\n",
       "24876973   18669  24876974  39.973817  116.324117  2007-07-23 10:02:17\\n\n",
       "24876974   18669  24876975  39.973333  116.323683  2007-07-23 10:03:24\\n\n",
       "24876975   18669  24876976  39.973733  116.323250  2007-07-23 10:03:58\\n\n",
       "24876976   18669  24876977  39.973317  116.322967  2007-07-23 10:05:09\\n\n",
       "24876977   18669  24876978  39.973150  116.323283  2007-07-23 10:06:38\\n\n",
       "\n",
       "[24854983 rows x 5 columns]"
      ]
     },
     "execution_count": 239,
     "metadata": {},
     "output_type": "execute_result"
    }
   ],
   "source": [
    "traj_df3"
   ]
  },
  {
   "cell_type": "markdown",
   "id": "3ff99c66",
   "metadata": {},
   "source": [
    "# Let us take a sample of 500 trajectories for test"
   ]
  },
  {
   "cell_type": "code",
   "execution_count": 407,
   "id": "fbfb823b",
   "metadata": {},
   "outputs": [
    {
     "data": {
      "text/plain": [
       "500"
      ]
     },
     "execution_count": 407,
     "metadata": {},
     "output_type": "execute_result"
    }
   ],
   "source": [
    "\n",
    "test_traj_id = np.random.choice(18670, 500, replace=False)\n",
    "len(test_traj_id)"
   ]
  },
  {
   "cell_type": "code",
   "execution_count": 411,
   "id": "c2c27e60",
   "metadata": {},
   "outputs": [
    {
     "data": {
      "text/plain": [
       "500"
      ]
     },
     "execution_count": 411,
     "metadata": {},
     "output_type": "execute_result"
    }
   ],
   "source": [
    "len(np.unique(test_traj_id))"
   ]
  },
  {
   "cell_type": "code",
   "execution_count": 413,
   "id": "707f530a",
   "metadata": {},
   "outputs": [],
   "source": [
    "test_df = pd.DataFrame()\n",
    "\n",
    "for test_id in test_traj_id:\n",
    "\n",
    "    test_df = pd.concat([test_df, traj_df3[traj_df3['trj_id'] == test_id]], ignore_index=True)"
   ]
  },
  {
   "cell_type": "code",
   "execution_count": 414,
   "id": "5829986e",
   "metadata": {},
   "outputs": [
    {
     "data": {
      "text/plain": [
       "582494"
      ]
     },
     "execution_count": 414,
     "metadata": {},
     "output_type": "execute_result"
    }
   ],
   "source": [
    "len(test_df)"
   ]
  },
  {
   "cell_type": "markdown",
   "id": "812eb361",
   "metadata": {},
   "source": [
    "## Keep a dict of trj_id：list of lats and lons"
   ]
  },
  {
   "cell_type": "code",
   "execution_count": 415,
   "id": "40ae36a7",
   "metadata": {},
   "outputs": [],
   "source": [
    "test_dict = {}\n",
    "for test_id in test_traj_id:\n",
    "    lats = np.array(test_df[test_df['trj_id'] == test_id]['lat'])\n",
    "    lons = np.array(test_df[test_df['trj_id'] == test_id]['lon'])\n",
    "    lats = lats.reshape((1, len(lats)))\n",
    "    lons = lons.reshape((1, len(lons)))\n",
    "    ppp = np.concatenate((lats.T, lons.T), axis=1)\n",
    "    test_dict[test_id] = ppp"
   ]
  },
  {
   "cell_type": "markdown",
   "id": "884d1baf",
   "metadata": {},
   "source": [
    "## Given a point (lat, lon), calculate a bounding box whose area is within e"
   ]
  },
  {
   "cell_type": "code",
   "execution_count": 392,
   "id": "ab5809b7",
   "metadata": {},
   "outputs": [],
   "source": [
    "def get_distance_box(lat, lon, dis=30):\n",
    "    origin = geopy.Point(lat, lon)\n",
    "    sw_pt = geodesic(meters=dis).destination(origin, 225)\n",
    "    ne_pt = geodesic(meters=dis).destination(origin, 45)\n",
    "    return ((sw_pt[0], sw_pt[1]), (ne_pt[0], ne_pt[1]))"
   ]
  },
  {
   "cell_type": "markdown",
   "id": "240a57f9",
   "metadata": {},
   "source": [
    "# The EDR"
   ]
  },
  {
   "cell_type": "code",
   "execution_count": 588,
   "id": "6d13e05e",
   "metadata": {},
   "outputs": [],
   "source": [
    "def s_edr(t0, t1, eps=30):\n",
    "    n0 = len(t0)\n",
    "    n1 = len(t1)\n",
    "    # An (m+1) times (n+1) matrix\n",
    "    C = [[0] * (n1 + 1) for _ in range(n0 + 1)]\n",
    "    for a in range(n1+1):\n",
    "        C[0][a] = a\n",
    "    for b in range(n0+1):\n",
    "        C[b][0] = b\n",
    "        \n",
    "    for i in range(1, n0 + 1):\n",
    "        for j in range(1, n1 + 1):\n",
    "            if haversine((t0[i-1][0], t0[i-1][1]), (t1[j-1][0], t1[j-1][1]), unit=Unit.METERS) < eps:\n",
    "                subcost = 0\n",
    "            else:\n",
    "                subcost = 1\n",
    "            C[i][j] = min(C[i][j - 1] + 1, C[i - 1][j] + 1, C[i - 1][j - 1] + subcost)\n",
    "    norm_edr = float(C[n0][n1]) / max([n0, n1])\n",
    "    \n",
    "    #edr = C[n0][n1]\n",
    "    return norm_edr, C[n0][n1]"
   ]
  },
  {
   "cell_type": "markdown",
   "id": "f09077d4",
   "metadata": {},
   "source": [
    "# The Q gram"
   ]
  },
  {
   "cell_type": "code",
   "execution_count": 293,
   "id": "6b9cd6df",
   "metadata": {},
   "outputs": [],
   "source": [
    "def compute_mean_Qgrams(lats, lons, q = 5):\n",
    "    mean_Qgrams = []\n",
    "    for i in range(len(lats)-q+1):\n",
    "        Qgram_lats = []\n",
    "        Qgram_lons = []\n",
    "        for j in range(q):\n",
    "            Qgram_lats.append(lats[i+j])\n",
    "            Qgram_lons.append(lons[i+j])\n",
    "        lat_mean = np.mean(Qgram_lats)\n",
    "        lon_mean = np.mean(Qgram_lons)\n",
    "        mean_Qgrams.append([lat_mean, lon_mean])\n",
    "    return mean_Qgrams"
   ]
  },
  {
   "cell_type": "markdown",
   "id": "64e59e67",
   "metadata": {},
   "source": [
    "## Compute Q gram for all test traj"
   ]
  },
  {
   "cell_type": "code",
   "execution_count": 437,
   "id": "5d754cd5",
   "metadata": {},
   "outputs": [],
   "source": [
    "Point_Q_list = []\n",
    "Q_grams_list = []\n",
    "traj_id_list = []\n",
    "test_traj_Q_counter = {}\n",
    "Q_index = []\n",
    "\n",
    "Q_num = 1\n",
    "for test_id in test_traj_id:\n",
    "    lats = np.array(test_df[test_df['trj_id'] == test_id]['lat'])\n",
    "    lons = np.array(test_df[test_df['trj_id'] == test_id]['lon'])\n",
    "    q_grams = compute_mean_Qgrams(lats, lons)\n",
    "    for q in q_grams:\n",
    "        Point_Q_list.append(Point(q[0], q[1]))\n",
    "        Q_index.append(Q_num)\n",
    "        Q_num += 1\n",
    "    Q_grams_list += q_grams\n",
    "    traj_id_list += [test_id] * len(q_grams)\n",
    "    \n",
    "    test_traj_Q_counter[test_id] = 0"
   ]
  },
  {
   "cell_type": "code",
   "execution_count": 442,
   "id": "b858b087",
   "metadata": {},
   "outputs": [
    {
     "data": {
      "text/plain": [
       "580495"
      ]
     },
     "execution_count": 442,
     "metadata": {},
     "output_type": "execute_result"
    }
   ],
   "source": [
    "len(Point_Q_list)"
   ]
  },
  {
   "cell_type": "code",
   "execution_count": 443,
   "id": "64b077e3",
   "metadata": {},
   "outputs": [],
   "source": [
    "Q_gram_df = pd.DataFrame({'trj_id': traj_id_list, 'Q_gram_index':Q_index, 'Q_gram_lat': Q_gram_array[:,0], 'Q_gram_lon':Q_gram_array[:,1]})"
   ]
  },
  {
   "cell_type": "code",
   "execution_count": 496,
   "id": "73fb54bd",
   "metadata": {},
   "outputs": [
    {
     "data": {
      "text/plain": [
       "6268"
      ]
     },
     "execution_count": 496,
     "metadata": {},
     "output_type": "execute_result"
    }
   ],
   "source": [
    "list(Q_gram_df[Q_gram_df['Q_gram_index']==6658]['trj_id'])[0]"
   ]
  },
  {
   "cell_type": "markdown",
   "id": "37733dad",
   "metadata": {},
   "source": [
    "## Put all Q grams into R tree"
   ]
  },
  {
   "cell_type": "code",
   "execution_count": 460,
   "id": "9f696809",
   "metadata": {},
   "outputs": [],
   "source": [
    "s = geopandas.GeoSeries(Point_Q_list,index = Q_index, crs=4326)"
   ]
  },
  {
   "cell_type": "markdown",
   "id": "611508bc",
   "metadata": {},
   "source": [
    "### Get Q grams from query trajectory"
   ]
  },
  {
   "cell_type": "code",
   "execution_count": 450,
   "id": "1c1584b4",
   "metadata": {},
   "outputs": [],
   "source": [
    "query_traj_id = 112\n",
    "query_traj_lats = np.array(traj_df3[traj_df3['trj_id'] == query_traj_id]['lat'])\n",
    "query_traj_lons = np.array(traj_df3[traj_df3['trj_id'] == query_traj_id]['lon'])\n",
    "query_q_grams = compute_mean_Qgrams(query_traj_lats, query_traj_lons)"
   ]
  },
  {
   "cell_type": "code",
   "execution_count": 452,
   "id": "609f7dbd",
   "metadata": {},
   "outputs": [
    {
     "data": {
      "text/plain": [
       "674"
      ]
     },
     "execution_count": 452,
     "metadata": {},
     "output_type": "execute_result"
    }
   ],
   "source": [
    "len(query_q_grams)"
   ]
  },
  {
   "cell_type": "code",
   "execution_count": 454,
   "id": "ce5c13f8",
   "metadata": {},
   "outputs": [],
   "source": [
    "box_sw, box_ne = get_distance_box(39.98600292, 116.36223294000001)"
   ]
  },
  {
   "cell_type": "code",
   "execution_count": 462,
   "id": "94e9c461",
   "metadata": {},
   "outputs": [
    {
     "data": {
      "text/plain": [
       "73"
      ]
     },
     "execution_count": 462,
     "metadata": {},
     "output_type": "execute_result"
    }
   ],
   "source": [
    "len(s.sindex.query(box(box_sw[0], box_sw[1], box_ne[0], box_ne[1])))"
   ]
  },
  {
   "cell_type": "code",
   "execution_count": 473,
   "id": "f906e22e",
   "metadata": {},
   "outputs": [
    {
     "data": {
      "text/plain": [
       "Index([107981, 446126, 321437,  20648, 503196,  64343, 426434, 529742, 570395,\n",
       "        69396,  21371, 530411, 336124, 212307,  99709,  79553, 188455, 511621,\n",
       "       411561,  22136, 143697, 140918, 119833, 234715, 321436, 107980, 367550,\n",
       "       503195,  20647, 530412, 336123, 145405, 570396, 426435,  64344,  69397,\n",
       "       401310,  19675, 105584, 462540, 469680, 511620, 343111, 321435,  22135,\n",
       "       188456, 212308, 535118, 107979, 140917, 570397,  21372, 143696, 426436,\n",
       "       570398,  94331, 411560, 234716, 503194, 321434, 530413, 336122,  20646,\n",
       "       511619, 461058, 446125, 408762, 122087,  69398,  64345, 107978, 104214,\n",
       "       321433],\n",
       "      dtype='int64')"
      ]
     },
     "execution_count": 473,
     "metadata": {},
     "output_type": "execute_result"
    }
   ],
   "source": [
    "s.index[s.sindex.query(box(box_sw[0], box_sw[1], box_ne[0], box_ne[1]))]"
   ]
  },
  {
   "cell_type": "code",
   "execution_count": 497,
   "id": "7c845c64",
   "metadata": {},
   "outputs": [],
   "source": [
    "for q_gram in query_q_grams:\n",
    "    box_sw, box_ne = get_distance_box(q_gram[0], q_gram[1], dis=30)\n",
    "    matched_Q_index_list = s.index[s.sindex.query(box(box_sw[0], box_sw[1], box_ne[0], box_ne[1]))]\n",
    "    for q in matched_Q_index_list:\n",
    "        traj_id = list(Q_gram_df[Q_gram_df['Q_gram_index'] == q]['trj_id'])[0]\n",
    "        test_traj_Q_counter[traj_id] += 1"
   ]
  },
  {
   "cell_type": "code",
   "execution_count": 501,
   "id": "1c910dc6",
   "metadata": {},
   "outputs": [],
   "source": [
    "\n",
    "sorted_Q_Counter = sorted(test_traj_Q_counter.items(), key = lambda x:x[1], reverse = True)\n"
   ]
  },
  {
   "cell_type": "code",
   "execution_count": 506,
   "id": "d5b0a6fe",
   "metadata": {},
   "outputs": [
    {
     "data": {
      "text/plain": [
       "[(522, 1519),\n",
       " (6038, 1045),\n",
       " (14271, 946),\n",
       " (12274, 939),\n",
       " (14681, 825),\n",
       " (500, 747),\n",
       " (4423, 733),\n",
       " (5727, 662),\n",
       " (547, 654),\n",
       " (6061, 597),\n",
       " (802, 586),\n",
       " (14607, 571),\n",
       " (552, 569),\n",
       " (540, 569),\n",
       " (4474, 550),\n",
       " (6115, 523),\n",
       " (5954, 487),\n",
       " (4475, 461),\n",
       " (15283, 452),\n",
       " (15783, 437),\n",
       " (7797, 435),\n",
       " (17961, 424),\n",
       " (15887, 420),\n",
       " (3319, 406),\n",
       " (15481, 399),\n",
       " (2445, 396),\n",
       " (18097, 388),\n",
       " (17022, 373),\n",
       " (2357, 372),\n",
       " (217, 367),\n",
       " (14535, 352),\n",
       " (15731, 351),\n",
       " (663, 349),\n",
       " (248, 321),\n",
       " (8382, 312),\n",
       " (728, 300),\n",
       " (6037, 292),\n",
       " (5686, 284),\n",
       " (13139, 270),\n",
       " (15863, 266),\n",
       " (17922, 247),\n",
       " (10894, 245),\n",
       " (18162, 239),\n",
       " (10606, 236),\n",
       " (5434, 231),\n",
       " (17852, 226),\n",
       " (15514, 221),\n",
       " (11473, 216),\n",
       " (18286, 214),\n",
       " (18288, 203),\n",
       " (15298, 194),\n",
       " (16054, 193),\n",
       " (15707, 191),\n",
       " (12950, 175),\n",
       " (2769, 172),\n",
       " (14858, 172),\n",
       " (2497, 165),\n",
       " (2321, 163),\n",
       " (793, 161),\n",
       " (8050, 158),\n",
       " (16028, 157),\n",
       " (17004, 153),\n",
       " (4947, 142),\n",
       " (15848, 142),\n",
       " (17856, 135),\n",
       " (13917, 133),\n",
       " (13070, 123),\n",
       " (3197, 118),\n",
       " (11166, 118),\n",
       " (6256, 116),\n",
       " (12536, 115),\n",
       " (3095, 114),\n",
       " (8028, 104),\n",
       " (13884, 103),\n",
       " (15835, 99),\n",
       " (4818, 95),\n",
       " (14564, 93),\n",
       " (14620, 90),\n",
       " (5550, 87),\n",
       " (13788, 81),\n",
       " (2275, 81),\n",
       " (9384, 79),\n",
       " (16862, 77),\n",
       " (4857, 76),\n",
       " (8515, 72),\n",
       " (14624, 70),\n",
       " (12965, 65),\n",
       " (5922, 65),\n",
       " (6012, 63),\n",
       " (13071, 63),\n",
       " (5408, 62),\n",
       " (12619, 61),\n",
       " (9145, 61),\n",
       " (3088, 61),\n",
       " (12611, 60),\n",
       " (16822, 59),\n",
       " (16945, 57),\n",
       " (15860, 56),\n",
       " (3985, 55),\n",
       " (6399, 55),\n",
       " (6268, 54),\n",
       " (4779, 53),\n",
       " (8799, 52),\n",
       " (12962, 50),\n",
       " (12979, 49),\n",
       " (5944, 46),\n",
       " (6172, 46),\n",
       " (2163, 45),\n",
       " (13078, 44),\n",
       " (4756, 44),\n",
       " (18377, 41),\n",
       " (9739, 40),\n",
       " (13897, 39),\n",
       " (8177, 38),\n",
       " (3443, 38),\n",
       " (13326, 32),\n",
       " (2024, 32),\n",
       " (15749, 30),\n",
       " (9550, 29),\n",
       " (17901, 28),\n",
       " (1976, 28),\n",
       " (14331, 28),\n",
       " (2611, 27),\n",
       " (8139, 27),\n",
       " (5674, 25),\n",
       " (4571, 25),\n",
       " (2597, 25),\n",
       " (8108, 25),\n",
       " (8869, 25),\n",
       " (15828, 25),\n",
       " (15590, 24),\n",
       " (1904, 24),\n",
       " (1234, 24),\n",
       " (15523, 23),\n",
       " (2037, 23),\n",
       " (5474, 22),\n",
       " (15453, 21),\n",
       " (111, 20),\n",
       " (15702, 19),\n",
       " (16166, 19),\n",
       " (6870, 18),\n",
       " (15280, 17),\n",
       " (14432, 17),\n",
       " (578, 17),\n",
       " (9059, 16),\n",
       " (10110, 15),\n",
       " (10068, 13),\n",
       " (17314, 13),\n",
       " (9849, 12),\n",
       " (14763, 10),\n",
       " (2778, 10),\n",
       " (9952, 8),\n",
       " (9658, 8),\n",
       " (14431, 7),\n",
       " (5616, 7),\n",
       " (3444, 6),\n",
       " (9931, 5),\n",
       " (9741, 4),\n",
       " (15971, 4),\n",
       " (17792, 4),\n",
       " (9047, 4),\n",
       " (2446, 4),\n",
       " (14729, 3),\n",
       " (14126, 3),\n",
       " (2186, 3),\n",
       " (1235, 3),\n",
       " (10271, 3),\n",
       " (16932, 3),\n",
       " (3493, 2),\n",
       " (3686, 2),\n",
       " (17576, 2),\n",
       " (17413, 2),\n",
       " (15046, 2),\n",
       " (2428, 2),\n",
       " (5333, 2),\n",
       " (8392, 2),\n",
       " (8894, 2),\n",
       " (11871, 2),\n",
       " (18542, 1),\n",
       " (9343, 1),\n",
       " (8650, 1),\n",
       " (132, 1),\n",
       " (9970, 1),\n",
       " (13981, 1),\n",
       " (12614, 1),\n",
       " (10895, 1),\n",
       " (9894, 1),\n",
       " (5419, 1),\n",
       " (1089, 1),\n",
       " (8339, 1),\n",
       " (1725, 0),\n",
       " (1282, 0),\n",
       " (4153, 0),\n",
       " (5023, 0),\n",
       " (12770, 0),\n",
       " (11967, 0),\n",
       " (11940, 0),\n",
       " (12398, 0),\n",
       " (5132, 0),\n",
       " (16123, 0),\n",
       " (4531, 0),\n",
       " (7425, 0),\n",
       " (8109, 0),\n",
       " (8520, 0),\n",
       " (4577, 0),\n",
       " (6712, 0),\n",
       " (6156, 0),\n",
       " (11019, 0),\n",
       " (7364, 0),\n",
       " (12414, 0),\n",
       " (13501, 0),\n",
       " (3360, 0),\n",
       " (17725, 0),\n",
       " (1207, 0),\n",
       " (7502, 0),\n",
       " (15388, 0),\n",
       " (17713, 0),\n",
       " (17034, 0),\n",
       " (18297, 0),\n",
       " (17419, 0),\n",
       " (10176, 0),\n",
       " (3879, 0),\n",
       " (3754, 0),\n",
       " (4083, 0),\n",
       " (14866, 0),\n",
       " (13172, 0),\n",
       " (10765, 0),\n",
       " (15545, 0),\n",
       " (3698, 0),\n",
       " (3795, 0),\n",
       " (16070, 0),\n",
       " (9653, 0),\n",
       " (8967, 0),\n",
       " (16494, 0),\n",
       " (10946, 0),\n",
       " (4067, 0),\n",
       " (5018, 0),\n",
       " (17536, 0),\n",
       " (17486, 0),\n",
       " (14830, 0),\n",
       " (1748, 0),\n",
       " (3242, 0),\n",
       " (4830, 0),\n",
       " (8866, 0),\n",
       " (3565, 0),\n",
       " (18503, 0),\n",
       " (11902, 0),\n",
       " (7806, 0),\n",
       " (15216, 0),\n",
       " (471, 0),\n",
       " (7348, 0),\n",
       " (5636, 0),\n",
       " (17443, 0),\n",
       " (10690, 0),\n",
       " (6489, 0),\n",
       " (11348, 0),\n",
       " (12474, 0),\n",
       " (18354, 0),\n",
       " (11534, 0),\n",
       " (16450, 0),\n",
       " (9977, 0),\n",
       " (238, 0),\n",
       " (3768, 0),\n",
       " (8640, 0),\n",
       " (17566, 0),\n",
       " (2006, 0),\n",
       " (10656, 0),\n",
       " (13384, 0),\n",
       " (4901, 0),\n",
       " (2720, 0),\n",
       " (16268, 0),\n",
       " (8504, 0),\n",
       " (12001, 0),\n",
       " (8960, 0),\n",
       " (11773, 0),\n",
       " (4544, 0),\n",
       " (1537, 0),\n",
       " (15472, 0),\n",
       " (1435, 0),\n",
       " (12992, 0),\n",
       " (10674, 0),\n",
       " (13333, 0),\n",
       " (7922, 0),\n",
       " (16120, 0),\n",
       " (6472, 0),\n",
       " (1549, 0),\n",
       " (17544, 0),\n",
       " (7237, 0),\n",
       " (5367, 0),\n",
       " (14122, 0),\n",
       " (12405, 0),\n",
       " (3279, 0),\n",
       " (12800, 0),\n",
       " (10562, 0),\n",
       " (10101, 0),\n",
       " (14892, 0),\n",
       " (11933, 0),\n",
       " (8434, 0),\n",
       " (12475, 0),\n",
       " (5868, 0),\n",
       " (13814, 0),\n",
       " (13259, 0),\n",
       " (2704, 0),\n",
       " (14153, 0),\n",
       " (14831, 0),\n",
       " (1557, 0),\n",
       " (12831, 0),\n",
       " (9652, 0),\n",
       " (12029, 0),\n",
       " (13142, 0),\n",
       " (4016, 0),\n",
       " (8542, 0),\n",
       " (14434, 0),\n",
       " (17267, 0),\n",
       " (17738, 0),\n",
       " (17538, 0),\n",
       " (17639, 0),\n",
       " (15181, 0),\n",
       " (3090, 0),\n",
       " (1490, 0),\n",
       " (9283, 0),\n",
       " (4898, 0),\n",
       " (17874, 0),\n",
       " (17480, 0),\n",
       " (6477, 0),\n",
       " (473, 0),\n",
       " (4313, 0),\n",
       " (11119, 0),\n",
       " (1719, 0),\n",
       " (3954, 0),\n",
       " (3022, 0),\n",
       " (12986, 0),\n",
       " (5839, 0),\n",
       " (8150, 0),\n",
       " (7717, 0),\n",
       " (15827, 0),\n",
       " (4162, 0),\n",
       " (7416, 0),\n",
       " (4758, 0),\n",
       " (10187, 0),\n",
       " (13952, 0),\n",
       " (9213, 0),\n",
       " (2532, 0),\n",
       " (9445, 0),\n",
       " (10608, 0),\n",
       " (11649, 0),\n",
       " (1400, 0),\n",
       " (372, 0),\n",
       " (14403, 0),\n",
       " (1402, 0),\n",
       " (6958, 0),\n",
       " (300, 0),\n",
       " (3465, 0),\n",
       " (17177, 0),\n",
       " (1348, 0),\n",
       " (7046, 0),\n",
       " (4075, 0),\n",
       " (1578, 0),\n",
       " (14100, 0),\n",
       " (1884, 0),\n",
       " (3409, 0),\n",
       " (13635, 0),\n",
       " (8919, 0),\n",
       " (11665, 0),\n",
       " (4352, 0),\n",
       " (14527, 0),\n",
       " (14024, 0),\n",
       " (11120, 0),\n",
       " (3500, 0),\n",
       " (13951, 0),\n",
       " (7403, 0),\n",
       " (3092, 0),\n",
       " (13678, 0),\n",
       " (10645, 0),\n",
       " (15212, 0),\n",
       " (12898, 0),\n",
       " (1217, 0),\n",
       " (11162, 0),\n",
       " (3876, 0),\n",
       " (881, 0),\n",
       " (10454, 0),\n",
       " (6570, 0),\n",
       " (3495, 0),\n",
       " (15127, 0),\n",
       " (10529, 0),\n",
       " (9797, 0),\n",
       " (5246, 0),\n",
       " (16853, 0),\n",
       " (4648, 0),\n",
       " (11893, 0),\n",
       " (3597, 0),\n",
       " (17373, 0),\n",
       " (10817, 0),\n",
       " (3458, 0),\n",
       " (18343, 0),\n",
       " (16251, 0),\n",
       " (251, 0),\n",
       " (11689, 0),\n",
       " (7327, 0),\n",
       " (8454, 0),\n",
       " (13491, 0),\n",
       " (16428, 0),\n",
       " (5120, 0),\n",
       " (16098, 0),\n",
       " (12093, 0),\n",
       " (15815, 0),\n",
       " (5239, 0),\n",
       " (11927, 0),\n",
       " (11610, 0),\n",
       " (13577, 0),\n",
       " (3699, 0),\n",
       " (12138, 0),\n",
       " (4146, 0),\n",
       " (3777, 0),\n",
       " (7098, 0),\n",
       " (14006, 0),\n",
       " (8267, 0),\n",
       " (1636, 0),\n",
       " (7889, 0),\n",
       " (13511, 0),\n",
       " (1801, 0),\n",
       " (17268, 0),\n",
       " (4354, 0),\n",
       " (18141, 0),\n",
       " (5543, 0),\n",
       " (11088, 0),\n",
       " (11698, 0),\n",
       " (4328, 0),\n",
       " (7573, 0),\n",
       " (13494, 0),\n",
       " (15010, 0),\n",
       " (10486, 0),\n",
       " (9880, 0),\n",
       " (14078, 0),\n",
       " (4616, 0),\n",
       " (15227, 0),\n",
       " (17697, 0),\n",
       " (11558, 0),\n",
       " (15207, 0),\n",
       " (5357, 0),\n",
       " (7670, 0),\n",
       " (4987, 0),\n",
       " (5811, 0),\n",
       " (11991, 0),\n",
       " (12440, 0),\n",
       " (457, 0),\n",
       " (4198, 0),\n",
       " (10376, 0),\n",
       " (13330, 0),\n",
       " (13714, 0),\n",
       " (9789, 0),\n",
       " (11269, 0),\n",
       " (1772, 0),\n",
       " (13683, 0),\n",
       " (12840, 0),\n",
       " (1526, 0),\n",
       " (3903, 0),\n",
       " (11638, 0),\n",
       " (3042, 0),\n",
       " (13407, 0),\n",
       " (11688, 0),\n",
       " (78, 0),\n",
       " (2779, 0),\n",
       " (12651, 0),\n",
       " (18493, 0),\n",
       " (1894, 0),\n",
       " (11864, 0),\n",
       " (8708, 0),\n",
       " (1647, 0),\n",
       " (8807, 0),\n",
       " (4865, 0),\n",
       " (13742, 0),\n",
       " (1794, 0),\n",
       " (10598, 0),\n",
       " (8910, 0),\n",
       " (6884, 0),\n",
       " (6537, 0),\n",
       " (4297, 0),\n",
       " (7546, 0),\n",
       " (10244, 0),\n",
       " (2538, 0),\n",
       " (18121, 0),\n",
       " (12400, 0),\n",
       " (2512, 0),\n",
       " (6629, 0),\n",
       " (5870, 0),\n",
       " (13276, 0),\n",
       " (4782, 0),\n",
       " (10030, 0),\n",
       " (1767, 0),\n",
       " (12733, 0),\n",
       " (4663, 0),\n",
       " (7915, 0),\n",
       " (5789, 0),\n",
       " (1468, 0),\n",
       " (13004, 0),\n",
       " (8296, 0),\n",
       " (10978, 0),\n",
       " (1867, 0),\n",
       " (7550, 0)]"
      ]
     },
     "execution_count": 506,
     "metadata": {},
     "output_type": "execute_result"
    }
   ],
   "source": [
    "sorted_Q_Counter"
   ]
  },
  {
   "cell_type": "markdown",
   "id": "2c078f7c",
   "metadata": {},
   "source": [
    "### Get the query trajectory"
   ]
  },
  {
   "cell_type": "code",
   "execution_count": 523,
   "id": "8b55e33c",
   "metadata": {},
   "outputs": [],
   "source": [
    "query_lats = np.array(traj_df3[traj_df3['trj_id'] == query_traj_id]['lat'])\n",
    "query_lons = np.array(traj_df3[traj_df3['trj_id'] == query_traj_id]['lon'])\n",
    "query_lats = query_lats.reshape((1, len(query_lats)))\n",
    "query_lons = query_lons.reshape((1, len(query_lons)))\n",
    "query_traj = np.concatenate((query_lats.T, query_lons.T), axis=1)"
   ]
  },
  {
   "cell_type": "code",
   "execution_count": 524,
   "id": "0a6dc21e",
   "metadata": {},
   "outputs": [
    {
     "data": {
      "text/plain": [
       "(678, 2)"
      ]
     },
     "execution_count": 524,
     "metadata": {},
     "output_type": "execute_result"
    }
   ],
   "source": [
    "query_traj.shape"
   ]
  },
  {
   "cell_type": "code",
   "execution_count": 624,
   "id": "30006852",
   "metadata": {},
   "outputs": [],
   "source": [
    "k = 3\n",
    "best_k = []\n",
    "for i in range(k): \n",
    "    traj_id = sorted_Q_Counter[i][0]\n",
    "    norm_edr, edr = s_edr(query_traj, test_dict[traj_id])\n",
    "    best_k.append([sorted_Q_Counter[i][0], edr, norm_edr])\n",
    "best_k.sort(key=lambda x: x[1], reverse = False)"
   ]
  },
  {
   "cell_type": "code",
   "execution_count": 625,
   "id": "4bcb60cc",
   "metadata": {},
   "outputs": [
    {
     "data": {
      "text/plain": [
       "[[14271, 1136, 0.9947460595446584],\n",
       " [522, 2718, 0.9890829694323144],\n",
       " [6038, 4198, 0.9882297551789078]]"
      ]
     },
     "execution_count": 625,
     "metadata": {},
     "output_type": "execute_result"
    }
   ],
   "source": [
    "best_k"
   ]
  },
  {
   "cell_type": "code",
   "execution_count": 593,
   "id": "b52cbfd7",
   "metadata": {},
   "outputs": [],
   "source": [
    "all_dist = []\n",
    "for i in range(len(sorted_Q_Counter)):\n",
    "    if sorted_Q_Counter[i][1] == 0:\n",
    "        break\n",
    "    traj_id = sorted_Q_Counter[i][0]\n",
    "    norm_edr, edr = s_edr(query_traj, test_dict[traj_id])\n",
    "    all_dist.append([sorted_Q_Counter[i][0], edr, norm_edr])\n",
    "all_dist.sort(key=lambda x: x[2], reverse = True)"
   ]
  },
  {
   "cell_type": "code",
   "execution_count": 594,
   "id": "6347996e",
   "metadata": {},
   "outputs": [
    {
     "data": {
      "text/plain": [
       "[[540, 678, 1.0],\n",
       " [11473, 924, 1.0],\n",
       " [17856, 678, 1.0],\n",
       " [13917, 678, 1.0],\n",
       " [13884, 678, 1.0],\n",
       " [5550, 678, 1.0],\n",
       " [16862, 1188, 1.0],\n",
       " [4857, 1636, 1.0],\n",
       " [5922, 678, 1.0],\n",
       " [6012, 678, 1.0],\n",
       " [16945, 678, 1.0],\n",
       " [15860, 678, 1.0],\n",
       " [4779, 678, 1.0],\n",
       " [8799, 743, 1.0],\n",
       " [6172, 678, 1.0],\n",
       " [4756, 678, 1.0],\n",
       " [13897, 1030, 1.0],\n",
       " [3443, 678, 1.0],\n",
       " [17901, 2225, 1.0],\n",
       " [14331, 1028, 1.0],\n",
       " [4571, 840, 1.0],\n",
       " [2597, 2676, 1.0],\n",
       " [15523, 722, 1.0],\n",
       " [111, 678, 1.0],\n",
       " [16166, 678, 1.0],\n",
       " [6870, 678, 1.0],\n",
       " [14432, 908, 1.0],\n",
       " [9059, 1005, 1.0],\n",
       " [17314, 678, 1.0],\n",
       " [2778, 678, 1.0],\n",
       " [9658, 678, 1.0],\n",
       " [5616, 1690, 1.0],\n",
       " [3444, 678, 1.0],\n",
       " [15971, 678, 1.0],\n",
       " [9047, 678, 1.0],\n",
       " [2446, 782, 1.0],\n",
       " [14729, 1043, 1.0],\n",
       " [1235, 678, 1.0],\n",
       " [16932, 966, 1.0],\n",
       " [3493, 1353, 1.0],\n",
       " [3686, 1407, 1.0],\n",
       " [17576, 958, 1.0],\n",
       " [17413, 14706, 1.0],\n",
       " [15046, 3616, 1.0],\n",
       " [5333, 1079, 1.0],\n",
       " [8392, 678, 1.0],\n",
       " [8894, 678, 1.0],\n",
       " [11871, 786, 1.0],\n",
       " [18542, 1188, 1.0],\n",
       " [9343, 678, 1.0],\n",
       " [132, 678, 1.0],\n",
       " [9970, 678, 1.0],\n",
       " [13981, 1584, 1.0],\n",
       " [12614, 678, 1.0],\n",
       " [10895, 678, 1.0],\n",
       " [9894, 718, 1.0],\n",
       " [8339, 678, 1.0],\n",
       " [17004, 6419, 0.9996885220370659],\n",
       " [2428, 2490, 0.9995985547972702],\n",
       " [2611, 2418, 0.9995866060355518],\n",
       " [2186, 2075, 0.9995183044315993],\n",
       " [2163, 1731, 0.9994226327944573],\n",
       " [3088, 1491, 0.9993297587131368],\n",
       " [3985, 10160, 0.9993114979836727],\n",
       " [5674, 2699, 0.9992595335061089],\n",
       " [15298, 3589, 0.9991648106904232],\n",
       " [17961, 5510, 0.99909338168631],\n",
       " [14763, 2130, 0.99906191369606],\n",
       " [16028, 6006, 0.999001996007984],\n",
       " [10894, 770, 0.9987029831387808],\n",
       " [2497, 756, 0.9986789960369881],\n",
       " [16054, 5980, 0.9986639946559787],\n",
       " [1234, 714, 0.9986013986013986],\n",
       " [12965, 677, 0.9985250737463127],\n",
       " [13071, 677, 0.9985250737463127],\n",
       " [12619, 677, 0.9985250737463127],\n",
       " [12611, 677, 0.9985250737463127],\n",
       " [12962, 677, 0.9985250737463127],\n",
       " [13078, 677, 0.9985250737463127],\n",
       " [10068, 677, 0.9985250737463127],\n",
       " [14431, 677, 0.9985250737463127],\n",
       " [9931, 677, 0.9985250737463127],\n",
       " [14126, 677, 0.9985250737463127],\n",
       " [8650, 677, 0.9985250737463127],\n",
       " [1089, 677, 0.9985250737463127],\n",
       " [2275, 1219, 0.9983619983619983],\n",
       " [10271, 1098, 0.9981818181818182],\n",
       " [802, 1042, 0.9980842911877394],\n",
       " [5727, 22588, 0.9980117527504087],\n",
       " [13139, 903, 0.9977900552486187],\n",
       " [14858, 883, 0.9977401129943503],\n",
       " [9550, 676, 0.9970501474926253],\n",
       " [8869, 676, 0.9970501474926253],\n",
       " [9741, 676, 0.9970501474926253],\n",
       " [17792, 676, 0.9970501474926253],\n",
       " [5419, 676, 0.9970501474926253],\n",
       " [15514, 1246, 0.9968],\n",
       " [6268, 2037, 0.9965753424657534],\n",
       " [15731, 3316, 0.9957957957957958],\n",
       " [18162, 5745, 0.9956672443674177],\n",
       " [4475, 675, 0.995575221238938],\n",
       " [15835, 675, 0.995575221238938],\n",
       " [14620, 675, 0.995575221238938],\n",
       " [5408, 675, 0.995575221238938],\n",
       " [6399, 675, 0.995575221238938],\n",
       " [5944, 675, 0.995575221238938],\n",
       " [9739, 675, 0.995575221238938],\n",
       " [15749, 675, 0.995575221238938],\n",
       " [15828, 675, 0.995575221238938],\n",
       " [5474, 675, 0.995575221238938],\n",
       " [15453, 675, 0.995575221238938],\n",
       " [15702, 675, 0.995575221238938],\n",
       " [12950, 3813, 0.9955613577023499],\n",
       " [17022, 1115, 0.9955357142857143],\n",
       " [15707, 1985, 0.9954864593781344],\n",
       " [4474, 871, 0.9954285714285714],\n",
       " [16822, 1081, 0.9953959484346224],\n",
       " [4947, 1836, 0.9951219512195122],\n",
       " [14271, 1136, 0.9947460595446584],\n",
       " [17852, 1121, 0.9946761313220941],\n",
       " [6037, 6721, 0.9946721918010951],\n",
       " [728, 674, 0.9941002949852508],\n",
       " [15848, 1132, 0.9938542581211589],\n",
       " [5954, 6482, 0.9937145485206194],\n",
       " [14624, 3788, 0.993704092339979],\n",
       " [4423, 776, 0.9935979513444302],\n",
       " [500, 734, 0.993234100135318],\n",
       " [14607, 1152, 0.993103448275862],\n",
       " [547, 673, 0.9926253687315634],\n",
       " [552, 673, 0.9926253687315634],\n",
       " [7797, 673, 0.9926253687315634],\n",
       " [9952, 673, 0.9926253687315634],\n",
       " [6256, 1466, 0.992552471225457],\n",
       " [1976, 1663, 0.9922434367541766],\n",
       " [14564, 1865, 0.9920212765957447],\n",
       " [2024, 1047, 0.9914772727272727],\n",
       " [3197, 672, 0.9911504424778761],\n",
       " [1904, 672, 0.9911504424778761],\n",
       " [578, 672, 0.9911504424778761],\n",
       " [9849, 672, 0.9911504424778761],\n",
       " [793, 671, 0.9896755162241888],\n",
       " [8139, 671, 0.9896755162241888],\n",
       " [2037, 671, 0.9896755162241888],\n",
       " [13788, 941, 0.9894847528916929],\n",
       " [2357, 2807, 0.9894254494183997],\n",
       " [663, 818, 0.9891172914147521],\n",
       " [522, 2718, 0.9890829694323144],\n",
       " [6038, 4198, 0.9882297551789078],\n",
       " [18288, 670, 0.9882005899705014],\n",
       " [4818, 670, 0.9882005899705014],\n",
       " [15590, 670, 0.9882005899705014],\n",
       " [15280, 670, 0.9882005899705014],\n",
       " [10110, 670, 0.9882005899705014],\n",
       " [2769, 669, 0.9867256637168141],\n",
       " [15887, 2535, 0.9863813229571985],\n",
       " [11166, 1800, 0.9863013698630136],\n",
       " [15481, 1189, 0.9859038142620232],\n",
       " [14681, 10484, 0.9855235946606505],\n",
       " [18097, 668, 0.9852507374631269],\n",
       " [2321, 947, 0.9844074844074844],\n",
       " [6061, 2023, 0.9839494163424124],\n",
       " [15783, 1735, 0.9835600907029478],\n",
       " [15863, 939, 0.9832460732984293],\n",
       " [17922, 2182, 0.9824403421882035],\n",
       " [8050, 666, 0.9823008849557522],\n",
       " [15283, 1649, 0.9809637120761452],\n",
       " [13326, 665, 0.9808259587020649],\n",
       " [6115, 1246, 0.980330448465775],\n",
       " [18286, 663, 0.9778761061946902],\n",
       " [5686, 2584, 0.9773071104387292],\n",
       " [14535, 765, 0.9770114942528736],\n",
       " [248, 1508, 0.9747899159663865],\n",
       " [2445, 660, 0.9734513274336283],\n",
       " [8108, 658, 0.9705014749262537],\n",
       " [217, 1599, 0.9702669902912622],\n",
       " [5434, 1583, 0.96760391198044],\n",
       " [18377, 655, 0.9660766961651918],\n",
       " [8515, 654, 0.9646017699115044],\n",
       " [10606, 1044, 0.96398891966759],\n",
       " [12274, 2620, 0.9632352941176471],\n",
       " [8177, 653, 0.9631268436578171],\n",
       " [8382, 1811, 0.9592161016949152],\n",
       " [8028, 649, 0.9572271386430679],\n",
       " [3319, 2097, 0.9501585863162664],\n",
       " [12979, 644, 0.9498525073746312],\n",
       " [9145, 642, 0.9469026548672567],\n",
       " [9384, 635, 0.9365781710914455],\n",
       " [12536, 632, 0.9321533923303835],\n",
       " [13070, 631, 0.9306784660766961],\n",
       " [3095, 630, 0.9292035398230089]]"
      ]
     },
     "execution_count": 594,
     "metadata": {},
     "output_type": "execute_result"
    }
   ],
   "source": [
    "all_dist"
   ]
  },
  {
   "cell_type": "code",
   "execution_count": 626,
   "id": "6b40fa1f",
   "metadata": {},
   "outputs": [
    {
     "name": "stdout",
     "output_type": "stream",
     "text": [
      "id: 5727  q counter: 662 best so far: 1136\n",
      "id: 5954  q counter: 487 best so far: 678\n",
      "id: 17961  q counter: 424 best so far: 673\n",
      "id: 6037  q counter: 292 best so far: 673\n",
      "id: 18162  q counter: 239 best so far: 673\n",
      "id: 15298  q counter: 194 best so far: 668\n",
      "id: 16054  q counter: 193 best so far: 668\n",
      "id: 12950  q counter: 175 best so far: 668\n",
      "id: 16028  q counter: 157 best so far: 666\n",
      "id: 17004  q counter: 153 best so far: 666\n",
      "id: 14624  q counter: 70 best so far: 632\n",
      "id: 3985  q counter: 55 best so far: 632\n",
      "id: 17413  q counter: 2 best so far: 632\n",
      "id: 15046  q counter: 2 best so far: 632\n"
     ]
    }
   ],
   "source": [
    "for j in range(k, len(sorted_Q_Counter)):\n",
    "    best_so_far = best_k[2][1]\n",
    "    s_id = sorted_Q_Counter[j][0]\n",
    "    s_v = sorted_Q_Counter[j][1]\n",
    "    if s_v == 0:\n",
    "        \n",
    "        break\n",
    "    \n",
    "    if s_v >= (max(len(query_traj), len(test_dict[s_id])) - (best_so_far + 1) * 5):\n",
    "        norm_edr, edr = s_edr(query_traj, test_dict[s_id])\n",
    "        if edr < best_so_far:\n",
    "            best_k[2] = [s_id, edr, norm_edr]\n",
    "            best_k.sort(key=lambda x: x[1], reverse = False)\n",
    "    else:\n",
    "        print(\"id: \" + str(s_id), \" q counter: \" + str(s_v) + \" best so far: \" + str(best_so_far)) \n",
    "        continue"
   ]
  },
  {
   "cell_type": "code",
   "execution_count": 627,
   "id": "baced88b",
   "metadata": {},
   "outputs": [
    {
     "data": {
      "text/plain": [
       "[[3095, 630, 0.9292035398230089],\n",
       " [13070, 631, 0.9306784660766961],\n",
       " [12536, 632, 0.9321533923303835]]"
      ]
     },
     "execution_count": 627,
     "metadata": {},
     "output_type": "execute_result"
    }
   ],
   "source": [
    "best_k"
   ]
  },
  {
   "cell_type": "code",
   "execution_count": 615,
   "id": "3721eaad",
   "metadata": {},
   "outputs": [
    {
     "data": {
      "text/plain": [
       "22633"
      ]
     },
     "execution_count": 615,
     "metadata": {},
     "output_type": "execute_result"
    }
   ],
   "source": [
    "len(test_dict[5727])"
   ]
  },
  {
   "cell_type": "code",
   "execution_count": 619,
   "id": "b40de1da",
   "metadata": {},
   "outputs": [
    {
     "data": {
      "text/plain": [
       "22633"
      ]
     },
     "execution_count": 619,
     "metadata": {},
     "output_type": "execute_result"
    }
   ],
   "source": [
    "len(test_df[test_df['trj_id'] == 5727])"
   ]
  },
  {
   "cell_type": "code",
   "execution_count": 608,
   "id": "47e6f812",
   "metadata": {},
   "outputs": [
    {
     "data": {
      "text/plain": [
       "678"
      ]
     },
     "execution_count": 608,
     "metadata": {},
     "output_type": "execute_result"
    }
   ],
   "source": [
    "len(query_traj)"
   ]
  },
  {
   "cell_type": "code",
   "execution_count": 616,
   "id": "929dafd7",
   "metadata": {},
   "outputs": [
    {
     "data": {
      "text/plain": [
       "(0.9980117527504087, 22588)"
      ]
     },
     "execution_count": 616,
     "metadata": {},
     "output_type": "execute_result"
    }
   ],
   "source": [
    "s_edr(query_traj, test_dict[5727])"
   ]
  },
  {
   "cell_type": "code",
   "execution_count": 507,
   "id": "520049ed",
   "metadata": {},
   "outputs": [
    {
     "data": {
      "text/plain": [
       "678"
      ]
     },
     "execution_count": 507,
     "metadata": {},
     "output_type": "execute_result"
    }
   ],
   "source": [
    "len(traj_df3[traj_df3['trj_id'] == query_traj_id])"
   ]
  },
  {
   "cell_type": "code",
   "execution_count": 595,
   "id": "4c0a0028",
   "metadata": {},
   "outputs": [
    {
     "data": {
      "text/plain": [
       "334"
      ]
     },
     "execution_count": 595,
     "metadata": {},
     "output_type": "execute_result"
    }
   ],
   "source": [
    "len(traj_df3[traj_df3['trj_id'] == 3095])"
   ]
  },
  {
   "cell_type": "code",
   "execution_count": 510,
   "id": "15964880",
   "metadata": {},
   "outputs": [],
   "source": [
    "tra_query_lat = list(traj_df3[traj_df3['trj_id'] == query_traj_id]['lat'])\n",
    "tra_query_lon = list(traj_df3[traj_df3['trj_id'] == query_traj_id]['lon'])"
   ]
  },
  {
   "cell_type": "code",
   "execution_count": 511,
   "id": "e00d8ef2",
   "metadata": {},
   "outputs": [],
   "source": [
    "tra_query = []\n",
    "for i in range(len(tra_query_lat)):\n",
    "    tra_query.append([tra_query_lat[i], tra_query_lon[i]])"
   ]
  },
  {
   "cell_type": "code",
   "execution_count": 512,
   "id": "383b476d",
   "metadata": {},
   "outputs": [],
   "source": [
    "tra_query = np.array(tra_query)"
   ]
  },
  {
   "cell_type": "code",
   "execution_count": 513,
   "id": "4846e33e",
   "metadata": {},
   "outputs": [
    {
     "data": {
      "text/plain": [
       "(678, 2)"
      ]
     },
     "execution_count": 513,
     "metadata": {},
     "output_type": "execute_result"
    }
   ],
   "source": [
    "tra_query.shape"
   ]
  },
  {
   "cell_type": "code",
   "execution_count": 505,
   "id": "2a3ca84f",
   "metadata": {},
   "outputs": [
    {
     "data": {
      "text/plain": [
       "470"
      ]
     },
     "execution_count": 505,
     "metadata": {},
     "output_type": "execute_result"
    }
   ],
   "source": [
    "s_edr(tra_881, tra_100, 30)"
   ]
  },
  {
   "cell_type": "code",
   "execution_count": 328,
   "id": "f555ca25",
   "metadata": {},
   "outputs": [
    {
     "data": {
      "text/plain": [
       "(470, 2)"
      ]
     },
     "execution_count": 328,
     "metadata": {},
     "output_type": "execute_result"
    }
   ],
   "source": [
    "tra_100_lat = list(traj_df3[traj_df3['trj_id'] == 100]['lat'])\n",
    "tra_100_lon = list(traj_df3[traj_df3['trj_id'] == 100]['lon'])\n",
    "tra_100 = []\n",
    "for i in range(len(tra_100_lat)):\n",
    "    tra_100.append([tra_100_lat[i], tra_100_lon[i]])\n",
    "tra_100 = np.array(tra_100)\n",
    "tra_100.shape"
   ]
  },
  {
   "cell_type": "code",
   "execution_count": 325,
   "id": "640f8f10",
   "metadata": {},
   "outputs": [
    {
     "data": {
      "text/plain": [
       "(1674, 2)"
      ]
     },
     "execution_count": 325,
     "metadata": {},
     "output_type": "execute_result"
    }
   ],
   "source": [
    "tra_882 = np.array(tra_882)\n",
    "tra_882.shape"
   ]
  },
  {
   "cell_type": "code",
   "execution_count": 290,
   "id": "829ce26d",
   "metadata": {},
   "outputs": [
    {
     "data": {
      "text/plain": [
       "2.0"
      ]
     },
     "execution_count": 290,
     "metadata": {},
     "output_type": "execute_result"
    }
   ],
   "source": [
    "np.mean([1,2,3])"
   ]
  },
  {
   "cell_type": "code",
   "execution_count": 282,
   "id": "eb071573",
   "metadata": {},
   "outputs": [
    {
     "data": {
      "text/plain": [
       "68.17109616938029"
      ]
     },
     "execution_count": 282,
     "metadata": {},
     "output_type": "execute_result"
    }
   ],
   "source": [
    "haversine((40.9148666666667, 111.7105), (40.9142666666667, 111.710333333333))*1000"
   ]
  },
  {
   "cell_type": "code",
   "execution_count": 130,
   "id": "675402d7",
   "metadata": {},
   "outputs": [
    {
     "data": {
      "text/plain": [
       "0.34431298904423757"
      ]
     },
     "execution_count": 130,
     "metadata": {},
     "output_type": "execute_result"
    }
   ],
   "source": [
    "haversine((39.921747, 116.471552), (39.92175, 116.471553))*1000"
   ]
  },
  {
   "cell_type": "markdown",
   "id": "882f4178",
   "metadata": {},
   "source": [
    "# Using Python's Rtree library"
   ]
  },
  {
   "cell_type": "code",
   "execution_count": 24,
   "id": "36f804ff",
   "metadata": {},
   "outputs": [],
   "source": [
    "idx = index.Index()"
   ]
  },
  {
   "cell_type": "code",
   "execution_count": 25,
   "id": "bb3e32ac",
   "metadata": {},
   "outputs": [],
   "source": [
    "for item in Trajectoies.items():\n",
    "    for point in item[1]:\n",
    "        idx.insert(point[0], (point[1], point[2], point[1], point[2]))"
   ]
  },
  {
   "cell_type": "code",
   "execution_count": 34,
   "id": "6cd99e02",
   "metadata": {},
   "outputs": [
    {
     "data": {
      "text/plain": [
       "110325"
      ]
     },
     "execution_count": 34,
     "metadata": {},
     "output_type": "execute_result"
    }
   ],
   "source": [
    "len(list(idx.intersection((1, 3, 117, 40))))"
   ]
  },
  {
   "cell_type": "markdown",
   "id": "bad87886",
   "metadata": {},
   "source": [
    "# Using Geopandas"
   ]
  },
  {
   "cell_type": "code",
   "execution_count": 435,
   "id": "3a5f1181",
   "metadata": {},
   "outputs": [],
   "source": [
    "import geopandas\n",
    "from shapely.geometry import Point, box, LineString"
   ]
  },
  {
   "cell_type": "code",
   "execution_count": 56,
   "id": "cef81d61",
   "metadata": {},
   "outputs": [],
   "source": [
    "all_point = []\n",
    "id_list = []\n",
    "for item in Trajectoies.items():\n",
    "    for point in item[1]:\n",
    "        all_point.append(Point(point[1], point[2]))\n",
    "        id_list.append(point[0])"
   ]
  },
  {
   "cell_type": "code",
   "execution_count": 58,
   "id": "2d45d48e",
   "metadata": {},
   "outputs": [],
   "source": [
    "s = geopandas.GeoSeries(all_point, index=id_list, crs=4326)"
   ]
  },
  {
   "cell_type": "code",
   "execution_count": 307,
   "id": "287aa9e7",
   "metadata": {},
   "outputs": [
    {
     "data": {
      "text/plain": [
       "196"
      ]
     },
     "execution_count": 307,
     "metadata": {},
     "output_type": "execute_result"
    }
   ],
   "source": [
    "len(s.sindex.query(box(39.974294, 116.399741, 39.97777, 116.4)))"
   ]
  },
  {
   "cell_type": "code",
   "execution_count": 60,
   "id": "83483fcf",
   "metadata": {},
   "outputs": [
    {
     "data": {
      "text/plain": [
       "Index([13559202, 13559201, 13559200, 13559199, 13559198, 12710145, 12710149,\n",
       "       12710146, 12710147, 12710148,\n",
       "       ...\n",
       "       13395048, 15277519, 13395051, 15277517, 13395049, 13395050, 15277518,\n",
       "       13395052, 15277520, 10009842],\n",
       "      dtype='int64', length=110325)"
      ]
     },
     "execution_count": 60,
     "metadata": {},
     "output_type": "execute_result"
    }
   ],
   "source": [
    "s.index[s.sindex.query(box(1, 3, 117, 40))]"
   ]
  },
  {
   "cell_type": "code",
   "execution_count": 65,
   "id": "7810547f",
   "metadata": {},
   "outputs": [],
   "source": [
    "l = LineString([(1,1), (2,2), (3,3), (4,4), (5,5)])\n",
    "l2 = LineString([(0,5), (1,4), (2,3), (3,2), (4,1)])"
   ]
  },
  {
   "cell_type": "code",
   "execution_count": 72,
   "id": "aa7e24c1",
   "metadata": {},
   "outputs": [],
   "source": [
    "s2 = geopandas.GeoSeries([l, l2], index=[1,2], crs=4326)"
   ]
  },
  {
   "cell_type": "code",
   "execution_count": 73,
   "id": "1ed101f4",
   "metadata": {},
   "outputs": [
    {
     "data": {
      "text/plain": [
       "1    LINESTRING (1.00000 1.00000, 2.00000 2.00000, ...\n",
       "2    LINESTRING (0.00000 5.00000, 1.00000 4.00000, ...\n",
       "dtype: geometry"
      ]
     },
     "execution_count": 73,
     "metadata": {},
     "output_type": "execute_result"
    }
   ],
   "source": [
    "s2"
   ]
  },
  {
   "cell_type": "code",
   "execution_count": 77,
   "id": "1f253631",
   "metadata": {},
   "outputs": [
    {
     "data": {
      "text/plain": [
       "array([1, 0])"
      ]
     },
     "execution_count": 77,
     "metadata": {},
     "output_type": "execute_result"
    }
   ],
   "source": [
    "s2.sindex.query(box(0, 0, 7, 7), predicate='contains')"
   ]
  },
  {
   "cell_type": "code",
   "execution_count": 78,
   "id": "a16dc6cf",
   "metadata": {},
   "outputs": [],
   "source": [
    "all_linestring = []\n",
    "all_traid = []\n",
    "for item in Trajectoies.items():\n",
    "    line_string = []\n",
    "    for point in item[1]:\n",
    "        line_string.append((point[1], point[2]))\n",
    "    all_linestring.append(LineString(line_string))\n",
    "    all_traid.append(item[0])"
   ]
  },
  {
   "cell_type": "code",
   "execution_count": 298,
   "id": "92f384aa",
   "metadata": {},
   "outputs": [
    {
     "data": {
      "text/plain": [
       "18670"
      ]
     },
     "execution_count": 298,
     "metadata": {},
     "output_type": "execute_result"
    }
   ],
   "source": [
    "len(all_linestring)"
   ]
  },
  {
   "cell_type": "code",
   "execution_count": 297,
   "id": "8ce65d36",
   "metadata": {},
   "outputs": [
    {
     "name": "stdout",
     "output_type": "stream",
     "text": [
      "LINESTRING (39.974294 116.399741, 39.974292 116.399592, 39.974309 116.399523, 39.97432 116.399588, 39.974365 116.39973, 39.974391 116.399782, 39.974426 116.399735, 39.974458 116.3997, 39.974491 116.399732, 39.97453 116.399758, 39.974577 116.399745, 39.974623 116.399731, 39.974666 116.399713, 39.9747 116.399755, 39.974732 116.399838, 39.97473 116.399909, 39.974728 116.399982, 39.974731 116.400052, 39.97473 116.400143, 39.974737 116.400205, 39.974742 116.400264, 39.974747 116.400332, 39.974616 116.398937, 39.974632 116.399029, 39.974632 116.399029, 39.974635 116.399025, 39.974596 116.399077, 39.974551 116.399123, 39.974503 116.399165, 39.974478 116.399217, 39.974476 116.399282, 39.974497 116.399358, 39.974533 116.399454, 39.974562 116.399531, 39.974584 116.399586, 39.974617 116.399645, 39.974632 116.399729, 39.974627 116.399793, 39.974639 116.39986, 39.974655 116.399918, 39.974669 116.399979, 39.974688 116.40004, 39.974706 116.40012, 39.974654 116.400199, 39.974625 116.400269, 39.974615 116.40033, 39.974612 116.400391, 39.97461 116.400447, 39.97463 116.400468, 39.974665 116.400442, 39.9747 116.400418, 39.974724 116.40035, 39.974765 116.400311, 39.974853 116.400306, 39.974908 116.400325, 39.974908 116.400325, 39.974915 116.400331, 39.974919 116.400244, 39.974932 116.400186, 39.974938 116.400113, 39.974935 116.400043, 39.974934 116.399982, 39.974933 116.399907, 39.974925 116.39983, 39.974929 116.399762, 39.974934 116.399697, 39.97493 116.399621, 39.974931 116.39955, 39.974935 116.399478, 39.974929 116.399412, 39.974933 116.399336, 39.974937 116.399271, 39.974926 116.399205, 39.97493 116.39913, 39.974933 116.399063, 39.974936 116.398996, 39.97494 116.398917, 39.974931 116.398851, 39.974936 116.398782, 39.974939 116.398724, 39.974941 116.398665, 39.974935 116.398606, 39.974939 116.398539, 39.974922 116.39848, 39.974918 116.398414, 39.974911 116.398349, 39.974899 116.398277, 39.974896 116.398214, 39.974907 116.398155, 39.974911 116.398092, 39.974903 116.398019, 39.974918 116.397928, 39.974928 116.397859, 39.97494 116.397808, 39.974946 116.397741, 39.97495 116.397671, 39.974953 116.397597, 39.974955 116.397522, 39.974964 116.39746, 39.974958 116.39739, 39.974948 116.39733, 39.974958 116.397266, 39.974943 116.397192, 39.974946 116.397133, 39.974958 116.397076, 39.974953 116.397017, 39.974961 116.396957, 39.974957 116.396888, 39.974949 116.396822, 39.974945 116.396756, 39.974951 116.396688, 39.974952 116.39661, 39.974946 116.396543, 39.974951 116.396481, 39.974942 116.396417, 39.974942 116.39634, 39.974927 116.396273, 39.974932 116.396215, 39.974932 116.396148, 39.974928 116.396089, 39.974891 116.396028, 39.974889 116.395968, 39.974898 116.395911, 39.974902 116.39585, 39.974899 116.395793, 39.974904 116.395739, 39.97491 116.395684, 39.974911 116.395611, 39.974912 116.395548, 39.974902 116.395479, 39.974893 116.395413, 39.974911 116.395332, 39.974924 116.395248, 39.97486 116.395274, 39.974873 116.395229, 39.974865 116.395164, 39.974878 116.395109, 39.97488 116.39505, 39.974888 116.394989, 39.974885 116.394919, 39.974891 116.394847, 39.974889 116.394789, 39.974887 116.394718, 39.974883 116.394651, 39.974887 116.394591, 39.974877 116.394526, 39.974883 116.394459, 39.974882 116.394381, 39.974897 116.394312, 39.974897 116.394246, 39.974906 116.394182, 39.974908 116.39411, 39.974893 116.394038, 39.97489 116.393966, 39.974887 116.393902, 39.974897 116.393832, 39.974896 116.39377, 39.9749 116.393712, 39.974893 116.393637, 39.974895 116.393565, 39.974895 116.393507, 39.974895 116.393433, 39.974893 116.393367, 39.974887 116.393305, 39.974882 116.393232, 39.974875 116.393173, 39.974878 116.393109, 39.974874 116.393033, 39.974873 116.392969, 39.974879 116.392906, 39.974878 116.392826, 39.974882 116.392755, 39.974885 116.392692, 39.974879 116.392632, 39.974879 116.392568, 39.974874 116.392493, 39.974872 116.39243, 39.974864 116.392368, 39.974863 116.3923, 39.97486 116.392224, 39.97486 116.392152, 39.974861 116.392092, 39.974871 116.39203, 39.974894 116.391974, 39.974885 116.391901, 39.974881 116.391836, 39.97488 116.391757, 39.974886 116.391692, 39.974883 116.391632, 39.974875 116.391567, 39.974869 116.3915, 39.974866 116.391433, 39.974869 116.391364, 39.974863 116.391294, 39.974858 116.39122, 39.974867 116.391159, 39.974858 116.391098, 39.974866 116.391022, 39.974875 116.39096, 39.974879 116.390886, 39.97488 116.390821, 39.974893 116.39075, 39.974884 116.390677, 39.974889 116.390609, 39.974888 116.39053, 39.974885 116.390465, 39.974884 116.390396, 39.974889 116.390337, 39.974883 116.390272, 39.97488 116.390206, 39.974884 116.390134, 39.974875 116.390065, 39.974877 116.390007, 39.974877 116.389929, 39.974868 116.389869, 39.974865 116.389789, 39.974866 116.389724, 39.974874 116.389651, 39.97488 116.389573, 39.974875 116.389514, 39.974864 116.389457, 39.974852 116.389394, 39.974854 116.389316, 39.974851 116.389245, 39.974841 116.389172, 39.974846 116.389097, 39.974847 116.389021, 39.974847 116.388953, 39.974856 116.388879, 39.974855 116.388817, 39.974858 116.388744, 39.97486 116.388675, 39.974854 116.388603, 39.974855 116.38853, 39.974851 116.388465, 39.974851 116.388392, 39.974843 116.388332, 39.974845 116.388282, 39.974852 116.388214, 39.974856 116.388147, 39.974861 116.388062, 39.974871 116.387979, 39.97489 116.387908, 39.974922 116.387829, 39.97496 116.387747, 39.97499 116.387688, 39.97495 116.387636, 39.974916 116.387556, 39.974841 116.387532, 39.974852 116.387549, 39.974852 116.387505, 39.974838 116.387457, 39.97484 116.387398, 39.974836 116.387335, 39.974824 116.387265, 39.974817 116.387196, 39.974826 116.387124, 39.974826 116.387061, 39.97482 116.386986, 39.97482 116.386927, 39.974821 116.386869, 39.974814 116.386807, 39.974808 116.386747, 39.974799 116.386675, 39.974798 116.386598, 39.974818 116.386535, 39.974854 116.386491, 39.974889 116.386442, 39.974897 116.386374, 39.974898 116.386313, 39.974893 116.386251, 39.974892 116.38618, 39.974886 116.386117, 39.974883 116.386044, 39.974876 116.385977, 39.974862 116.385917, 39.974827 116.385854, 39.974816 116.385793, 39.974807 116.385727, 39.974813 116.38566, 39.974813 116.385601, 39.974814 116.385529, 39.97481 116.385467, 39.974809 116.385402, 39.974795 116.385345, 39.974793 116.385281, 39.974792 116.385209, 39.974784 116.385148, 39.974788 116.385081, 39.974787 116.385014, 39.974794 116.384943, 39.974792 116.384877, 39.974762 116.384834, 39.974713 116.384832, 39.974667 116.384837, 39.974608 116.384847, 39.974563 116.384843, 39.974533 116.384903, 39.974549 116.384962, 39.974566 116.385018, 39.974571 116.38509, 39.974574 116.385148, 39.974569 116.385216, 39.974573 116.385282, 39.97457 116.385353, 39.974568 116.385416, 39.974566 116.385477, 39.974564 116.385535, 39.974571 116.385606, 39.974561 116.385681, 39.974539 116.385773, 39.974546 116.385831, 39.974541 116.385893, 39.974541 116.385961, 39.97453 116.386032, 39.974534 116.386094, 39.974538 116.386159, 39.974538 116.38624, 39.974531 116.386303, 39.974527 116.386363, 39.974522 116.386435, 39.97452 116.386497, 39.974545 116.386552, 39.974549 116.386613, 39.974538 116.386692, 39.974582 116.386723, 39.974595 116.386794, 39.974589 116.386856, 39.974584 116.386914, 39.974582 116.38698, 39.974581 116.387051, 39.97458 116.387114, 39.974579 116.387187, 39.974572 116.38725, 39.974579 116.387314, 39.974581 116.387377, 39.974585 116.38745, 39.974586 116.38752, 39.974596 116.387581, 39.974597 116.387645, 39.974604 116.387714, 39.974603 116.387774, 39.974613 116.387815, 39.974619 116.387873, 39.97461 116.387938, 39.974577 116.387989, 39.974579 116.388073, 39.974569 116.38814, 39.974584 116.388205, 39.97462 116.388291, 39.974581 116.388356, 39.974572 116.388419, 39.974556 116.388487, 39.974572 116.388546, 39.974557 116.388617, 39.974552 116.388631, 39.974548 116.388616, 39.974531 116.388599, 39.974513 116.38863, 39.974479 116.388686, 39.974473 116.388745, 39.974479 116.388789, 39.974485 116.388832, 39.974491 116.388906, 39.974486 116.388975, 39.974472 116.389037, 39.974467 116.389098, 39.974448 116.389169, 39.974417 116.389214, 39.974385 116.38927, 39.97437 116.389335, 39.974367 116.389394, 39.97438 116.389456, 39.974381 116.389512, 39.974392 116.389572, 39.9744 116.38963, 39.974419 116.389693, 39.974428 116.389751, 39.974427 116.389825, 39.974422 116.389889, 39.974417 116.38995, 39.974401 116.390019, 39.974383 116.390087, 39.974376 116.390146, 39.974365 116.390204, 39.974352 116.390265, 39.974361 116.39034, 39.974382 116.390408, 39.974391 116.390468, 39.974394 116.390546, 39.974399 116.390605, 39.974398 116.390679, 39.974407 116.390739, 39.974416 116.390798, 39.974421 116.390858, 39.974419 116.39093, 39.974418 116.390994, 39.974423 116.391058, 39.974411 116.391116, 39.974415 116.391175, 39.974412 116.391245, 39.97442 116.391317, 39.974425 116.391399, 39.974419 116.39144, 39.974414 116.391515, 39.974425 116.391572, 39.974442 116.391641, 39.974459 116.391702, 39.974445 116.391766, 39.974428 116.391825, 39.974444 116.391881, 39.974466 116.391942, 39.974487 116.392001, 39.974514 116.392051, 39.97453 116.392116, 39.974549 116.392187, 39.974555 116.392248, 39.974563 116.392314, 39.974536 116.392374, 39.97451 116.392423, 39.97447 116.392471, 39.974432 116.392503, 39.974378 116.392516, 39.974333 116.392531, 39.974288 116.392546, 39.974239 116.392565, 39.974201 116.392604, 39.974165 116.39265, 39.974151 116.392706, 39.974134 116.392763, 39.974107 116.392823, 39.974093 116.392887, 39.974091 116.392952, 39.974094 116.393024, 39.974092 116.393084, 39.974092 116.39315, 39.974086 116.393222, 39.974075 116.393282, 39.974072 116.393346, 39.974077 116.393412, 39.974092 116.39347, 39.974099 116.393529, 39.9741 116.393592, 39.974094 116.393651, 39.974063 116.39372, 39.974034 116.393775, 39.973993 116.393816, 39.973947 116.393814, 39.973898 116.3938, 39.97385 116.393795, 39.973794 116.393803, 39.973742 116.393816, 39.973715 116.393754, 39.973681 116.393761, 39.973638 116.393761, 39.973594 116.393793, 39.973553 116.393817, 39.973536 116.393832, 39.973488 116.393832, 39.97344 116.393822, 39.97339 116.39382, 39.973329 116.39383, 39.973312 116.39383, 39.973257 116.393841, 39.973208 116.393839, 39.97316 116.393853, 39.973099 116.393843, 39.973053 116.393868, 39.973008 116.393869, 39.972951 116.393851, 39.972913 116.39389, 39.972855 116.393884, 39.972805 116.393871, 39.972742 116.393871, 39.972671 116.393876, 39.972611 116.393874, 39.97257 116.393881, 39.972586 116.393925, 39.972583 116.393927, 39.972583 116.393927, 39.972583 116.393931, 39.972557 116.393969, 39.972523 116.394029, 39.97247 116.394063, 39.972418 116.39407, 39.972373 116.394071, 39.972322 116.394062, 39.972277 116.394066, 39.972231 116.394078, 39.972179 116.3941, 39.972112 116.394102, 39.972071 116.394074, 39.972018 116.394071, 39.971974 116.394063, 39.971917 116.394057, 39.971893 116.394076, 39.97185 116.394087, 39.97181 116.394112, 39.971775 116.394099, 39.971721 116.394101, 39.971677 116.394093, 39.971664 116.394101, 39.971664 116.394101, 39.971661 116.394109, 39.971624 116.394096, 39.971578 116.394098, 39.971528 116.394105, 39.971482 116.394113, 39.971465 116.394134, 39.971441 116.394138, 39.971403 116.394128, 39.971368 116.394123, 39.971323 116.39413, 39.971295 116.39412, 39.971255 116.394149, 39.971192 116.394216, 39.97115 116.394239, 39.971101 116.394223, 39.971045 116.394241, 39.970994 116.394252, 39.970947 116.394269, 39.970906 116.394277, 39.970858 116.394289, 39.970812 116.394292, 39.970781 116.394277, 39.970725 116.394282, 39.970682 116.394298, 39.970657 116.39432, 39.970637 116.394377, 39.970606 116.394427, 39.970568 116.394418, 39.970522 116.3944, 39.970485 116.394356, 39.970443 116.394334, 39.970407 116.394284, 39.970356 116.39427, 39.970314 116.394243, 39.970265 116.394211, 39.970201 116.394217, 39.97018 116.394215, 39.970148 116.394239, 39.9701 116.394263, 39.970055 116.39425, 39.97001 116.394214, 39.969957 116.394203, 39.969915 116.394169, 39.969859 116.394149, 39.96981 116.394124, 39.969772 116.394134, 39.969742 116.394096, 39.969684 116.394124, 39.969607 116.394214, 39.969589 116.394249, 39.969532 116.394262, 39.969478 116.394288, 39.969446 116.394334, 39.969399 116.394342, 39.969363 116.3944, 39.969317 116.39441, 39.969276 116.394406, 39.969235 116.394424, 39.969193 116.394451, 39.969151 116.394473, 39.969135 116.394464, 39.969124 116.394469, 39.969119 116.394439, 39.969071 116.394421, 39.969027 116.394394, 39.968984 116.394381, 39.968938 116.394367, 39.968945 116.394462, 39.968915 116.394507, 39.96888 116.394536, 39.968928 116.394581, 39.968973 116.394618, 39.969 116.394666, 39.969047 116.394684, 39.96909 116.394713, 39.969126 116.39474, 39.96918 116.394764, 39.969223 116.394769, 39.969262 116.394781, 39.969312 116.394789, 39.969369 116.394775, 39.969421 116.394742, 39.969486 116.39471, 39.969554 116.394672, 39.969628 116.394636, 39.969688 116.394631, 39.969776 116.394605, 39.969824 116.394589, 39.969872 116.394573, 39.969924 116.394556, 39.969976 116.39454, 39.97003 116.394523, 39.970089 116.39451, 39.968788 116.394851, 39.968004 116.39481, 39.967925 116.394802, 39.968173 116.395387, 39.968574 116.395102, 39.968558 116.395123, 39.968556 116.39516, 39.968618 116.395229, 39.968684 116.39524, 39.96868 116.395284, 39.96869 116.395295, 39.968674 116.395369, 39.968692 116.395389, 39.968712 116.39541, 39.968719 116.39544, 39.96872 116.395485, 39.96874 116.395521, 39.968748 116.395568, 39.968747 116.395619, 39.968736 116.39567, 39.968728 116.39572, 39.968727 116.395789, 39.96872 116.395848, 39.968724 116.39592, 39.968695 116.395977, 39.96868 116.396046, 39.968674 116.396108, 39.968685 116.396165, 39.968692 116.396225, 39.96871 116.396285, 39.968727 116.396349, 39.968777 116.396349, 39.968771 116.396407, 39.968755 116.396468, 39.968758 116.39653, 39.968768 116.396599, 39.968778 116.396664, 39.968796 116.396734, 39.968812 116.396803, 39.968821 116.396875, 39.968809 116.396997, 39.96882 116.397055, 39.968828 116.397113, 39.968828 116.397179, 39.968832 116.397239, 39.968828 116.39731, 39.968841 116.397369, 39.968832 116.397438, 39.968854 116.397497, 39.968852 116.397551, 39.968839 116.397614, 39.968822 116.397683, 39.96882 116.397732, 39.968791 116.397763, 39.968757 116.3978, 39.968756 116.397856, 39.968774 116.397913, 39.968787 116.397969, 39.968775 116.398001, 39.968758 116.397975, 39.968813 116.398027, 39.968825 116.398084, 39.968819 116.398133, 39.968823 116.398208, 39.968836 116.398267, 39.968859 116.39833, 39.968842 116.398381, 39.968846 116.398448, 39.968864 116.39845, 39.968864 116.39845, 39.968866 116.398455, 39.968859 116.39847, 39.968875 116.398545, 39.968861 116.398577, 39.968833 116.398634, 39.96882 116.398692, 39.968792 116.398743, 39.968765 116.398784, 39.968759 116.398843, 39.968773 116.398892, 39.96879 116.39894, 39.968777 116.398972, 39.968771 116.399031, 39.96876 116.399098, 39.968768 116.399173, 39.96877 116.399243, 39.968745 116.399306, 39.968699 116.399338, 39.968666 116.399329, 39.968617 116.399284, 39.968572 116.399282, 39.968528 116.399282, 39.96849 116.399294, 39.968455 116.39926, 39.968401 116.399286, 39.96838 116.399332, 39.968356 116.399403, 39.968337 116.399443, 39.968346 116.399505, 39.968359 116.399558, 39.968229 116.399785, 39.968216 116.399866, 39.968203 116.399932, 39.968182 116.400005, 39.968166 116.400069, 39.968224 116.399984, 39.968266 116.399887, 39.968241 116.399944, 39.968261 116.39978, 39.968268 116.399697, 39.968241 116.399654, 39.968195 116.399627, 39.968162 116.399624, 39.968137 116.399622, 39.968138 116.39959, 39.968155 116.399546, 39.968136 116.399565, 39.968135 116.399574, 39.968134 116.399584, 39.968135 116.399598, 39.968135 116.399603, 39.968136 116.3996, 39.968138 116.399597, 39.968138 116.399598, 39.968138 116.399602, 39.968138 116.399609, 39.968138 116.399609, 39.96814 116.399609, 39.968142 116.3996, 39.968144 116.39959, 39.968145 116.399584, 39.968145 116.399584, 39.968144 116.399591, 39.968125 116.399641, 39.968116 116.399676, 39.968115 116.399737, 39.968091 116.399816, 39.96809 116.399856, 39.968102 116.399795, 39.96811 116.399729, 39.968076 116.399689, 39.96806 116.399658, 39.96806 116.399658, 39.968065 116.399664, 39.968079 116.39965, 39.96812 116.399599, 39.968156 116.399565, 39.968159 116.399562, 39.96816 116.399563, 39.96816 116.399569, 39.96816 116.399569, 39.968154 116.399577, 39.96815 116.399588, 39.968174 116.399589, 39.96818 116.399591, 39.96818 116.399594, 39.96818 116.399599, 39.96818 116.399599, 39.968179 116.399605, 39.968179 116.399615, 39.968179 116.399617, 39.96818 116.39961, 39.96818 116.399609, 39.96818 116.399609, 39.96818 116.399601, 39.968181 116.399592, 39.968166 116.399567, 39.968171 116.399558, 39.968172 116.399556, 39.968173 116.399561, 39.968173 116.399564, 39.968173 116.399564, 39.968175 116.399557, 39.968177 116.399547, 39.968177 116.399547, 39.968176 116.399551, 39.968177 116.399565, 39.968227 116.399562, 39.968254 116.399561, 39.968264 116.399556, 39.968264 116.399556, 39.968262 116.399563, 39.968256 116.399598, 39.968256 116.399609, 39.968286 116.399631, 39.968304 116.399583, 39.968302 116.399535, 39.968298 116.399513, 39.968273 116.399503, 39.968273 116.399503, 39.968273 116.39951, 39.968272 116.39952, 39.968272 116.399525, 39.968271 116.399527, 39.96827 116.399532, 39.968268 116.399532, 39.968267 116.39953, 39.968265 116.399535, 39.968263 116.399539, 39.968262 116.399544, 39.968262 116.399544, 39.968255 116.39954, 39.96822 116.399568, 39.968184 116.399603, 39.968184 116.399603, 39.968178 116.39961, 39.968177 116.399623, 39.968175 116.399635, 39.968176 116.399646, 39.968177 116.399644, 39.968179 116.399636, 39.96818 116.399635, 39.96818 116.399635, 39.96818 116.399643, 39.968194 116.399629, 39.968194 116.399629, 39.968198 116.399628, 39.968198 116.399637, 39.968203 116.399622, 39.968199 116.399596, 39.968199 116.399596, 39.968199 116.399602, 39.968199 116.399611, 39.968199 116.399619, 39.968199 116.399622, 39.968199 116.399623, 39.968198 116.399628, 39.968198 116.399628, 39.968197 116.399636, 39.968224 116.39961, 39.968225 116.399611, 39.968226 116.399616, 39.968226 116.399612, 39.968226 116.399612, 39.968224 116.399613, 39.968222 116.399623, 39.968182 116.399639, 39.968146 116.399656, 39.968102 116.399652, 39.968101 116.399638, 39.968101 116.399638, 39.968102 116.39963, 39.968103 116.39962, 39.968103 116.399612, 39.968103 116.399612, 39.968105 116.399611, 39.968121 116.399556, 39.968122 116.399546, 39.968122 116.399548, 39.968123 116.399549, 39.968124 116.399543, 39.968125 116.399535, 39.968126 116.399532, 39.968127 116.399531, 39.968127 116.399531, 39.968125 116.399536, 39.968111 116.399561, 39.96808 116.399604, 39.968043 116.399662, 39.967995 116.399714, 39.96795 116.39978, 39.967927 116.399842, 39.967894 116.399888, 39.967893 116.399925, 39.967911 116.399866, 39.967955 116.399824, 39.967992 116.399775, 39.967953 116.399831, 39.967989 116.399775, 39.968027 116.399726, 39.968074 116.399675, 39.968109 116.399656, 39.968156 116.399623, 39.968171 116.399594, 39.968198 116.399556, 39.968179 116.399593, 39.968134 116.39963, 39.968091 116.39964, 39.96805 116.399664, 39.968028 116.399676, 39.968027 116.399668, 39.968027 116.399668, 39.968024 116.399672, 39.967992 116.399694, 39.967948 116.399732, 39.967914 116.399781, 39.967911 116.399791, 39.967911 116.399791, 39.967916 116.399787, 39.967923 116.399761, 39.967923 116.399761, 39.967917 116.399761, 39.967943 116.399755, 39.967943 116.399755, 39.96795 116.399751, 39.967973 116.39975, 39.967973 116.39975, 39.967974 116.399755, 39.967978 116.399708, 39.967989 116.399694, 39.968014 116.399606, 39.968048 116.399569, 39.968065 116.399564, 39.968085 116.399537, 39.968105 116.399484, 39.968119 116.399458, 39.968119 116.399458, 39.968118 116.399464, 39.968113 116.399447, 39.968098 116.399471, 39.968084 116.399489, 39.968055 116.399482, 39.968074 116.399493, 39.968102 116.399442, 39.96821 116.399168, 39.96821 116.399101, 39.968166 116.399106, 39.968132 116.399121, 39.968098 116.399191, 39.968073 116.39924, 39.968059 116.399321, 39.968043 116.399385, 39.968021 116.399446, 39.968016 116.3995, 39.968045 116.399514, 39.96809 116.399489, 39.968145 116.399476, 39.968204 116.399459, 39.968269 116.399437, 39.968313 116.399417, 39.96835 116.39944, 39.968392 116.399438, 39.96836 116.399477, 39.968337 116.399498, 39.968337 116.399498, 39.968334 116.399505, 39.968331 116.399519, 39.968331 116.399519, 39.968329 116.399519, 39.968326 116.399509, 39.968321 116.399515, 39.968321 116.399515, 39.968316 116.399518, 39.968258 116.399575, 39.968211 116.399605, 39.968162 116.399624, 39.968155 116.399634, 39.968153 116.399646, 39.968152 116.399655, 39.968152 116.399652, 39.968152 116.399652, 39.968151 116.399656, 39.96815 116.399667, 39.96815 116.399667, 39.968149 116.39967, 39.968148 116.399679, 39.968149 116.39968, 39.968149 116.399687, 39.968149 116.399687, 39.968149 116.39968, 39.968121 116.399628, 39.968112 116.399613, 39.968112 116.3996, 39.968114 116.399589, 39.968114 116.399578, 39.968114 116.399571, 39.968113 116.399563, 39.968113 116.399562, 39.968113 116.399559, 39.968112 116.399556, 39.968112 116.399556, 39.968112 116.399558, 39.968129 116.399542, 39.968139 116.399547, 39.968144 116.399527, 39.968114 116.399538, 39.968123 116.399512, 39.968139 116.3995, 39.968136 116.399519, 39.968173 116.399483, 39.968198 116.399453, 39.968167 116.399476, 39.968167 116.39947, 39.968167 116.39947, 39.968165 116.399467, 39.968165 116.399476, 39.968165 116.399476, 39.968164 116.399476, 39.968164 116.399465, 39.968134 116.399433, 39.96814 116.399365, 39.968144 116.399334, 39.968132 116.399271, 39.968121 116.399215, 39.968107 116.39919, 39.968089 116.399218, 39.968066 116.399279, 39.968053 116.399351, 39.968036 116.399412, 39.968015 116.399442, 39.967988 116.399499, 39.967955 116.399516, 39.967955 116.39951, 39.967955 116.39951, 39.967953 116.399515, 39.96798 116.39951, 39.967996 116.399523, 39.96804 116.399515, 39.968063 116.399519, 39.968084 116.399512, 39.968102 116.399494, 39.968102 116.399494, 39.968103 116.399494, 39.968102 116.399504, 39.968103 116.39951, 39.968105 116.39951, 39.968105 116.39951, 39.968105 116.399512, 39.968103 116.399521, 39.968103 116.399521, 39.968098 116.399519, 39.968068 116.399551, 39.968068 116.399551, 39.968073 116.399555, 39.968097 116.399556, 39.968139 116.399559, 39.968182 116.399562, 39.968243 116.399575, 39.968293 116.39957, 39.968353 116.399556, 39.968408 116.399529, 39.968385 116.399514, 39.968376 116.399511, 39.968376 116.399511, 39.968375 116.399515, 39.968365 116.399517, 39.96835 116.399492, 39.96835 116.399492, 39.968349 116.399491, 39.968344 116.399504, 39.968341 116.399519, 39.968301 116.399553, 39.968256 116.399572, 39.96821 116.399585, 39.968189 116.399591, 39.968167 116.399578, 39.968162 116.399578, 39.968162 116.399578, 39.968162 116.399571, 39.968162 116.399548, 39.968175 116.399526, 39.968175 116.399527, 39.968174 116.399525, 39.968174 116.399525, 39.968175 116.39952, 39.968189 116.399493, 39.968189 116.399493, 39.968131 116.399814, 39.96811 116.399853, 39.96811 116.399853, 39.968112 116.399859, 39.968114 116.399848, 39.968116 116.39982, 39.96812 116.399753, 39.968136 116.399686, 39.968159 116.399632, 39.968179 116.399575, 39.968199 116.399508, 39.9682 116.399507, 39.9682 116.399514, 39.968199 116.399517, 39.968197 116.399516, 39.968197 116.399517, 39.968197 116.399517, 39.968198 116.399511, 39.968222 116.399509, 39.968222 116.39951, 39.968222 116.39951, 39.968221 116.399513, 39.968196 116.399566, 39.968167 116.399622, 39.968127 116.399681, 39.968088 116.399721, 39.968063 116.399724, 39.968065 116.399664, 39.968056 116.399647, 39.968051 116.399603, 39.968061 116.399567, 39.968076 116.399562, 39.968076 116.399562, 39.968075 116.399568, 39.968074 116.399588, 39.968071 116.399647, 39.968064 116.39971, 39.968045 116.399774, 39.968045 116.399774, 39.968039 116.399778, 39.968047 116.399767, 39.968047 116.399767, 39.968049 116.399768, 39.968067 116.399746, 39.968085 116.399709, 39.968063 116.399678, 39.967974 116.399999, 39.96793 116.400023, 39.967743 116.400087, 39.967585 116.40013, 39.967454 116.400161, 39.967402 116.40016, 39.967353 116.400164, 39.967311 116.400142, 39.967323 116.400084, 39.967324 116.400014, 39.967352 116.399955, 39.967384 116.399903, 39.96742 116.399857, 39.96746 116.399821, 39.967516 116.399777, 39.967618 116.399703, 39.967666 116.399675, 39.967696 116.399677, 39.96767 116.399698, 39.967632 116.399735, 39.96765 116.39973, 39.967686 116.399691, 39.967724 116.399651, 39.967688 116.399667, 39.967643 116.399713, 39.967706 116.39973, 39.96778 116.399699, 39.967857 116.399673, 39.967911 116.399666, 39.967976 116.399636, 39.967984 116.39965, 39.967984 116.39965, 39.967978 116.399646, 39.968024 116.399618, 39.96807 116.399588, 39.96811 116.399571, 39.968164 116.399545, 39.968197 116.399526, 39.96822 116.399488, 39.968252 116.399483, 39.968287 116.399463, 39.968296 116.39952, 39.968246 116.399583, 39.968201 116.399622, 39.968158 116.399674, 39.968125 116.399721, 39.96808 116.39976, 39.968057 116.399814, 39.968068 116.399864, 39.96808 116.399894, 39.968115 116.399903, 39.968126 116.399902, 39.968122 116.399847, 39.968145 116.399778, 39.968154 116.399709, 39.968168 116.399642, 39.968196 116.399597, 39.968235 116.399543, 39.968277 116.3995, 39.968314 116.39944, 39.968346 116.399399, 39.968378 116.399347, 39.968422 116.399327, 39.968446 116.399319, 39.968443 116.399287, 39.968438 116.399266, 39.968426 116.399272, 39.968395 116.399306, 39.968392 116.399364, 39.96842 116.399381, 39.968392 116.399389, 39.968351 116.399404, 39.968287 116.39942, 39.968242 116.399438, 39.9682 116.399424, 39.968145 116.399439, 39.968091 116.399433, 39.968059 116.399421, 39.968081 116.399372, 39.968132 116.399334, 39.968169 116.399327, 39.968184 116.399326, 39.96819 116.399365, 39.968218 116.399359, 39.968267 116.399341, 39.968285 116.399353, 39.968304 116.399371, 39.968304 116.399371, 39.968304 116.399366, 39.968328 116.399344, 39.968338 116.39938, 39.968316 116.399422, 39.968281 116.39946, 39.968226 116.399497, 39.968179 116.399492, 39.96814 116.399506, 39.968084 116.399515, 39.968049 116.399512, 39.968011 116.399534, 39.967991 116.399525, 39.967986 116.399509, 39.968007 116.399456, 39.968027 116.399411, 39.968047 116.399355, 39.968055 116.399324, 39.968068 116.399335, 39.968098 116.399363, 39.968142 116.399367, 39.968197 116.399389, 39.968237 116.399417, 39.968287 116.399411, 39.968332 116.399415, 39.968383 116.399409, 39.968439 116.399415, 39.968489 116.399426, 39.968534 116.399435, 39.968583 116.399436, 39.96863 116.399445, 39.968693 116.399442, 39.968722 116.399483, 39.9687 116.399532, 39.968681 116.399598, 39.96866 116.399651, 39.968628 116.3997, 39.96861 116.39973, 39.968606 116.399712, 39.968576 116.399686, 39.968468 116.399659, 39.968415 116.399669, 39.96834 116.399675, 39.96829 116.39967, 39.968238 116.399656, 39.96819 116.399664, 39.9682 116.399644, 39.968186 116.399616, 39.968186 116.399616, 39.968184 116.399609, 39.968182 116.399618, 39.968143 116.399647, 39.968121 116.39966, 39.968086 116.399661, 39.968026 116.399652, 39.967965 116.399642, 39.967909 116.399642, 39.967908 116.399614, 39.967947 116.399584, 39.967994 116.399545, 39.968013 116.399529, 39.968012 116.399529, 39.968012 116.399529, 39.968011 116.399531, 39.968012 116.399486, 39.968012 116.399486, 39.968017 116.399491, 39.968035 116.399512, 39.968 116.399553, 39.967997 116.399579, 39.968008 116.39957, 39.967997 116.399594, 39.968036 116.399552, 39.968097 116.399524, 39.968153 116.399479, 39.968189 116.399459, 39.968205 116.399452, 39.968181 116.399458, 39.968176 116.399413, 39.968176 116.399413, 39.968183 116.399406, 39.968151 116.399418, 39.968151 116.399423, 39.968151 116.399423, 39.968143 116.399425, 39.968147 116.399434, 39.968154 116.399444, 39.968105 116.399492, 39.968053 116.399528, 39.968063 116.399552, 39.968029 116.399614, 39.967989 116.399655, 39.967942 116.399698, 39.967885 116.399732, 39.967836 116.399762, 39.967787 116.399808, 39.967753 116.399856, 39.967801 116.399829, 39.967845 116.399802, 39.967898 116.399797, 39.967956 116.399774, 39.96794 116.399817, 39.96794 116.399817, 39.967948 116.399817, 39.967987 116.399789, 39.96803 116.39975, 39.968076 116.399696, 39.968121 116.399666, 39.968135 116.399622, 39.968174 116.399613, 39.968216 116.399605, 39.968236 116.399626, 39.968223 116.399679, 39.968206 116.3997, 39.968206 116.3997, 39.968201 116.399696, 39.968174 116.399677, 39.968118 116.399664, 39.968133 116.399613, 39.96816 116.399592, 39.968144 116.399596, 39.968157 116.399585, 39.968161 116.39956, 39.968161 116.39956, 39.968157 116.399562, 39.968112 116.399609, 39.968086 116.39963, 39.968041 116.399657, 39.96799 116.399682, 39.967949 116.399703, 39.967913 116.399731, 39.967872 116.39976, 39.967823 116.399768, 39.967811 116.39979, 39.967827 116.399792, 39.967812 116.39979, 39.967825 116.399814, 39.967813 116.399843, 39.967835 116.39985, 39.967834 116.399892, 39.967805 116.399944, 39.967765 116.399971, 39.967765 116.399971, 39.96777 116.399977, 39.967799 116.39994, 39.967836 116.399882, 39.967872 116.399834, 39.96791 116.399785, 39.967942 116.399733, 39.967971 116.3997, 39.967972 116.399711, 39.967972 116.399711, 39.967975 116.399705, 39.968017 116.399675, 39.968062 116.399644, 39.968115 116.399607, 39.968157 116.399591, 39.968206 116.399575, 39.968267 116.399549, 39.968323 116.399533, 39.968366 116.399512, 39.968404 116.399489, 39.968438 116.399472, 39.968467 116.399437, 39.968493 116.399426, 39.968512 116.399455, 39.968552 116.39944, 39.96859 116.399415, 39.968599 116.39937, 39.968642 116.399357, 39.968686 116.399343, 39.968729 116.399331, 39.968768 116.399332, 39.968783 116.399329, 39.968779 116.399314, 39.968781 116.399267, 39.968788 116.399254, 39.968775 116.399218, 39.968775 116.399207, 39.968794 116.399236, 39.968748 116.399263, 39.96871 116.399283, 39.968667 116.399311, 39.96865 116.399333, 39.968614 116.399357, 39.968579 116.399368, 39.968557 116.399374, 39.968557 116.399374, 39.968551 116.399382, 39.968531 116.39945, 39.968511 116.399506, 39.968479 116.399555, 39.968442 116.399607, 39.968409 116.399655, 39.968359 116.3997, 39.968314 116.399749, 39.968267 116.399779, 39.96823 116.399765, 39.968208 116.399723, 39.96818 116.39972, 39.968213 116.399672, 39.96826 116.399651, 39.968292 116.399632, 39.968271 116.399628, 39.968214 116.399653, 39.968175 116.399698, 39.968161 116.399727, 39.968156 116.399741, 39.968204 116.399709, 39.968228 116.399681, 39.968187 116.399734, 39.968176 116.399748, 39.968128 116.399759, 39.968107 116.399755, 39.968072 116.399753, 39.968054 116.399726, 39.968009 116.399717, 39.967986 116.39968, 39.967986 116.39968, 39.967992 116.399673, 39.96796 116.39968, 39.967956 116.399631, 39.96791 116.399652, 39.967862 116.399692, 39.967826 116.399715, 39.967805 116.399714, 39.967841 116.399652, 39.967862 116.3996, 39.967893 116.399552, 39.967923 116.399506, 39.967956 116.399462, 39.967975 116.399436, 39.967989 116.399419, 39.967989 116.399419, 39.967993 116.399421, 39.968032 116.399438, 39.968061 116.399486, 39.968102 116.399509, 39.968159 116.399508, 39.968222 116.399476, 39.968241 116.399432, 39.968226 116.399393, 39.968613 116.399362, 39.968569 116.399454, 39.968523 116.399476, 39.96847 116.39951, 39.968424 116.39955, 39.968384 116.399594, 39.968438 116.399598, 39.968505 116.39958, 39.968562 116.399568, 39.968599 116.399562, 39.968626 116.399556, 39.968656 116.399543, 39.968728 116.399517, 39.968801 116.399491, 39.968878 116.399469, 39.968943 116.399441, 39.968943 116.399441, 39.968945 116.399441, 39.968954 116.39944, 39.968968 116.399436, 39.96864 116.399612, 39.968598 116.39958, 39.968553 116.399569, 39.968551 116.399499, 39.968545 116.39948, 39.968545 116.399503, 39.968612 116.399476, 39.968653 116.399472, 39.968697 116.399489, 39.968697 116.399489, 39.968702 116.399484, 39.968655 116.399475, 39.968594 116.399503, 39.968546 116.399538, 39.968493 116.399573, 39.968441 116.399598, 39.968396 116.399618, 39.968329 116.399642, 39.968257 116.399648, 39.968178 116.399688, 39.968117 116.399729, 39.968062 116.399753, 39.968244 116.399528, 39.96829 116.399543, 39.968336 116.399553, 39.96839 116.399555, 39.968438 116.399531, 39.968479 116.399487, 39.968522 116.399454, 39.968572 116.399448, 39.968619 116.399447, 39.968604 116.399445, 39.968555 116.399446, 39.968508 116.399465, 39.968456 116.399502, 39.968399 116.39953, 39.968339 116.399544, 39.968291 116.399562, 39.968231 116.399593, 39.968226 116.399618, 39.968272 116.399596, 39.968286 116.399582, 39.968303 116.399549, 39.968323 116.39954, 39.968364 116.399522, 39.968397 116.399502, 39.968436 116.399459, 39.968459 116.399435, 39.968446 116.399426, 39.968427 116.399417, 39.968399 116.399389, 39.968348 116.399393, 39.968348 116.399393, 39.968348 116.39939, 39.968329 116.399389, 39.968323 116.39937, 39.968363 116.399355, 39.968363 116.399355, 39.968366 116.399354, 39.968355 116.39937, 39.968317 116.399413, 39.968279 116.399452, 39.968234 116.399471, 39.968194 116.399488, 39.968153 116.399504, 39.968119 116.399533, 39.968086 116.399554, 39.968054 116.399596, 39.968023 116.399607, 39.967962 116.399608, 39.96791 116.39963, 39.967864 116.399663, 39.967818 116.399688, 39.967822 116.399666, 39.967875 116.399662, 39.967906 116.399633, 39.967906 116.399633, 39.967909 116.399628, 39.967962 116.399575, 39.968 116.399537, 39.968018 116.3995, 39.968017 116.399488, 39.968054 116.399445, 39.968057 116.399379, 39.968084 116.399328, 39.968132 116.399325, 39.968183 116.399317, 39.968232 116.399306, 39.968232 116.399306, 39.968239 116.399307, 39.968198 116.399367, 39.968164 116.399406, 39.968131 116.399447, 39.968154 116.399484, 39.968161 116.39952, 39.968239 116.399519, 39.968297 116.399504, 39.968341 116.399492, 39.968392 116.399489, 39.968402 116.39952, 39.968421 116.399505, 39.968437 116.399483, 39.968483 116.399469, 39.968538 116.399478, 39.968554 116.399541, 39.968586 116.399559, 39.968561 116.399568, 39.968547 116.399587, 39.968507 116.399598, 39.968507 116.399598, 39.968515 116.399595, 39.968508 116.399609, 39.968478 116.399584, 39.968434 116.399603, 39.968379 116.399629, 39.968321 116.399637, 39.968275 116.399623, 39.968269 116.399633, 39.968305 116.399601, 39.968351 116.399574, 39.968389 116.399545, 39.968389 116.399545, 39.968385 116.399543, 39.968354 116.399567, 39.968342 116.399578, 39.96834 116.399578, 39.968333 116.399577, 39.968333 116.399577, 39.968334 116.399583, 39.968329 116.399614, 39.96832 116.399598, 39.968289 116.399572, 39.968256 116.399552, 39.968235 116.399533, 39.967991 116.399671, 39.967965 116.399699, 39.967956 116.399716, 39.967964 116.399707, 39.967964 116.399707, 39.967963 116.399715, 39.967959 116.399756, 39.967957 116.399775, 39.96795 116.399743, 39.96795 116.399743, 39.967952 116.399738, 39.967978 116.399731, 39.968023 116.399706, 39.968066 116.399668, 39.96812 116.399646, 39.968173 116.399621, 39.968218 116.399615, 39.968218 116.399615, 39.96821 116.399609, 39.968166 116.399642, 39.968147 116.399632, 39.968154 116.399615, 39.96814 116.399623, 39.968151 116.399609, 39.968152 116.399612, 39.968153 116.399607, 39.968153 116.399609, 39.968153 116.399609, 39.968152 116.399604, 39.968152 116.399601, 39.968151 116.399598, 39.968149 116.399602, 39.968149 116.399602, 39.968148 116.399606, 39.968129 116.399629, 39.968079 116.399661, 39.968107 116.399648, 39.968106 116.399657, 39.968107 116.399644, 39.968107 116.399644, 39.968107 116.399646, 39.968263 116.399878, 39.968309 116.399929, 39.968349 116.399977, 39.968374 116.400005, 39.968388 116.400007, 39.968381 116.399995, 39.968381 116.399995, 39.968387 116.399997, 39.968374 116.400028, 39.968374 116.400028, 39.96837 116.400022, 39.968398 116.400039, 39.96843 116.400035, 39.968455 116.399989, 39.968485 116.399996, 39.968485 116.399996, 39.968484 116.400003, 39.968475 116.400049, 39.968494 116.400071, 39.968513 116.400062, 39.968512 116.400059, 39.968512 116.400059, 39.968509 116.400057, 39.968506 116.400045, 39.968504 116.400031, 39.968504 116.400031, 39.968502 116.400029, 39.968442 116.399977, 39.968405 116.399935, 39.9684 116.399875, 39.9684 116.39987, 39.968399 116.39987, 39.968399 116.39987, 39.968399 116.399873, 39.968396 116.399884, 39.968355 116.399872, 39.968346 116.399852, 39.968344 116.39984, 39.968291 116.399824, 39.968258 116.399759, 39.968254 116.399699, 39.968261 116.399641, 39.96825 116.399626, 39.968245 116.399629, 39.968245 116.399623, 39.968245 116.399618, 39.968244 116.399612, 39.968244 116.399614, 39.968242 116.399621, 39.96824 116.399625, 39.968238 116.399626, 39.968238 116.399626, 39.968236 116.399631, 39.96819 116.399668, 39.968148 116.399704, 39.96814 116.399723, 39.968139 116.399729, 39.968139 116.399735, 39.968139 116.399735, 39.96814 116.399741, 39.968139 116.399744, 39.968139 116.399744, 39.96814 116.399741, 39.968123 116.399677, 39.968106 116.399647, 39.968105 116.399588, 39.968092 116.399562, 39.968067 116.399538, 39.968067 116.399538, 39.968067 116.399538, 39.968061 116.399525, 39.968046 116.399548, 39.96804 116.399584, 39.96804 116.399617, 39.968043 116.399608, 39.968048 116.399599, 39.968049 116.399598, 39.968049 116.399598, 39.968055 116.399592, 39.96807 116.399591, 39.968094 116.399601, 39.968094 116.399601, 39.968096 116.3996, 39.968106 116.399577, 39.968102 116.399551, 39.968102 116.399545, 39.968103 116.399548, 39.968102 116.39955, 39.968102 116.39955, 39.968105 116.399546, 39.968106 116.39953, 39.968122 116.399503, 39.968149 116.399447, 39.968174 116.399384, 39.968189 116.399332, 39.968216 116.399305, 39.968235 116.399309, 39.968223 116.399371, 39.968194 116.399431, 39.96818 116.399484, 39.96818 116.399484, 39.968179 116.399482, 39.968142 116.399496, 39.96812 116.399526, 39.968093 116.399576, 39.968095 116.399595, 39.968139 116.399566, 39.968169 116.399554, 39.968169 116.399554, 39.968171 116.399551, 39.968175 116.39954, 39.968175 116.39954, 39.968177 116.399537, 39.968228 116.399501, 39.968267 116.399463, 39.968296 116.399433, 39.968295 116.399421, 39.968282 116.399425, 39.968279 116.399432, 39.968276 116.399435, 39.968274 116.399441, 39.968274 116.399441, 39.968272 116.399443, 39.968269 116.399457, 39.968269 116.399457, 39.968268 116.399462, 39.968254 116.399483, 39.968223 116.399503, 39.968209 116.39949, 39.968197 116.399496, 39.968147 116.399523, 39.968103 116.399545, 39.968082 116.399572, 39.968082 116.399572, 39.968089 116.399576, 39.968094 116.399567, 39.968094 116.399564, 39.968092 116.399572, 39.968092 116.399572, 39.968091 116.399579, 39.968097 116.39959, 39.96813 116.39958, 39.968167 116.399555, 39.968216 116.399541, 39.968265 116.39954, 39.968298 116.399523, 39.968288 116.399461, 39.968242 116.399436, 39.968204 116.399494, 39.968184 116.399518, 39.968182 116.39952, 39.96818 116.399521, 39.968177 116.399525, 39.968175 116.399529, 39.968174 116.399532, 39.968174 116.399532, 39.968173 116.399538, 39.968171 116.399547, 39.96815 116.399566, 39.968138 116.3996, 39.968129 116.399624, 39.968129 116.399624, 39.968128 116.399628, 39.968138 116.399635, 39.968138 116.399635, 39.968139 116.399643, 39.968179 116.399633, 39.968228 116.399646, 39.96822 116.39963, 39.968216 116.39962, 39.968217 116.399617, 39.968217 116.399615, 39.968217 116.39962, 39.968216 116.399618, 39.968216 116.399618, 39.968215 116.39961, 39.968213 116.399621, 39.968212 116.399628, 39.968212 116.399628, 39.968212 116.399632, 39.968211 116.399643, 39.968211 116.399641, 39.968211 116.39964, 39.968211 116.399638, 39.968211 116.399636, 39.968211 116.399636, 39.968212 116.39963, 39.968198 116.399603, 39.968185 116.399601, 39.968185 116.399601, 39.968184 116.399608, 39.968183 116.399622, 39.968182 116.399627, 39.968182 116.399627, 39.968182 116.399634, 39.968177 116.399645, 39.968166 116.399643, 39.968166 116.399643, 39.968166 116.399642, 39.968165 116.399631, 39.968163 116.399618, 39.968162 116.399607, 39.968161 116.399598, 39.968218 116.399914, 39.968209 116.399957, 39.968198 116.399989, 39.968202 116.399978, 39.968208 116.399904, 39.968207 116.399849, 39.968207 116.399852, 39.968207 116.399852, 39.968205 116.399859, 39.968204 116.399868, 39.968205 116.39987, 39.968205 116.399872, 39.968205 116.399875, 39.968206 116.399868, 39.968206 116.399868, 39.968205 116.399873, 39.968182 116.399888, 39.968175 116.399878, 39.96817 116.399885, 39.96817 116.399887, 39.96817 116.399887, 39.968171 116.399889, 39.968172 116.399879, 39.968173 116.399878, 39.968173 116.399878, 39.968173 116.399879, 39.968187 116.399853, 39.968201 116.399819, 39.968212 116.399799, 39.968214 116.399789, 39.968217 116.399777, 39.968219 116.39977, 39.968219 116.39977, 39.968219 116.399773, 39.968222 116.399798, 39.968232 116.399831, 39.968257 116.399857, 39.968298 116.399894, 39.968299 116.399938, 39.968283 116.399991, 39.968299 116.400016, 39.968309 116.399998, 39.968297 116.399959, 39.9683 116.399934, 39.968295 116.399868, 39.968285 116.399863, 39.968284 116.399875, 39.968284 116.399875, 39.968283 116.399871, 39.968286 116.399858, 39.968283 116.399876, 39.968283 116.399876, 39.968278 116.399882, 39.968284 116.399892, 39.968292 116.399902, 39.968296 116.399913, 39.968294 116.399897, 39.968294 116.399897, 39.968295 116.39989, 39.968296 116.399877, 39.968297 116.399864, 39.968298 116.399855, 39.968298 116.39985, 39.968298 116.39985, 39.968297 116.39985, 39.968295 116.39986, 39.968294 116.399861, 39.968294 116.399861, 39.968295 116.399862, 39.968295 116.399876, 39.968295 116.399876, 39.968295 116.399881, 39.968294 116.399893, 39.968293 116.399905, 39.968294 116.399907, 39.968294 116.399912, 39.968294 116.399912, 39.968295 116.399908, 39.968295 116.399898, 39.968295 116.3999, 39.968295 116.3999, 39.968296 116.399901, 39.968297 116.399891, 39.968312 116.399835, 39.968311 116.399767, 39.968308 116.399729, 39.968307 116.399734, 39.968306 116.399733, 39.968306 116.399725, 39.968304 116.399728, 39.968304 116.399728, 39.968303 116.399728, 39.968287 116.399741, 39.968264 116.399773, 39.968244 116.399772, 39.968238 116.399763, 39.968238 116.399765, 39.968238 116.399768, 39.96824 116.399767, 39.968242 116.399765, 39.968245 116.399758, 39.968247 116.399752, 39.968249 116.399755, 39.968248 116.399763, 39.968248 116.399767, 39.968248 116.399767, 39.968242 116.399765, 39.968247 116.399723, 39.968247 116.399718, 39.968247 116.399716, 39.968247 116.399716, 39.968247 116.399724, 39.968242 116.399738, 39.968256 116.399765, 39.968291 116.399787, 39.968304 116.399776, 39.9683 116.399785, 39.968318 116.399778, 39.968293 116.399826, 39.968285 116.399854, 39.9683 116.39986, 39.9683 116.39986, 39.968302 116.399858, 39.968328 116.399797, 39.968343 116.399756, 39.968343 116.399737, 39.968345 116.399723, 39.968346 116.399714, 39.968346 116.399705, 39.968302 116.399728, 39.96826 116.39976, 39.968217 116.3998, 39.968197 116.399806, 39.968192 116.399798, 39.968192 116.399798, 39.968191 116.399804, 39.968191 116.399795, 39.968192 116.399784, 39.968192 116.39979, 39.968191 116.399794, 39.968191 116.399795, 39.968192 116.3998, 39.968193 116.399801, 39.968194 116.3998, 39.968194 116.399806, 39.968194 116.399806, 39.968195 116.399809, 39.968195 116.399819, 39.968204 116.399827, 39.968203 116.399831, 39.968203 116.399831, 39.968202 116.399837, 39.968203 116.399826, 39.968204 116.399815, 39.968206 116.3998, 39.968257 116.399797, 39.968275 116.399788, 39.968276 116.399785, 39.968277 116.399793, 39.968277 116.399793, 39.968278 116.399794, 39.968278 116.39978, 39.968277 116.399768, 39.968277 116.399761, 39.968277 116.399761, 39.968276 116.399754, 39.968261 116.399719, 39.968257 116.399666, 39.968244 116.399612, 39.968269 116.399576, 39.968286 116.399543, 39.968289 116.399515, 39.968298 116.399511, 39.968291 116.399483, 39.968288 116.399492, 39.968288 116.399492, 39.968286 116.3995, 39.968255 116.399546, 39.968209 116.39959, 39.968207 116.3996, 39.968205 116.399647, 39.968189 116.399703, 39.968183 116.399716, 39.968183 116.399709, 39.968183 116.399709, 39.968182 116.399707, 39.96818 116.399727, 39.96817 116.399762, 39.968177 116.399782, 39.968178 116.399783, 39.968178 116.399783, 39.968179 116.399782, 39.968179 116.399791, 39.968188 116.399808, 39.968186 116.399785, 39.968193 116.3998, 39.968193 116.3998, 39.968188 116.399797, 39.968182 116.399772, 39.968169 116.399716, 39.968169 116.399716, 39.968166 116.399718, 39.968164 116.399743, 39.968146 116.399792, 39.968134 116.399815, 39.968128 116.39981, 39.968128 116.39981, 39.968123 116.399818, 39.968117 116.399833, 39.968113 116.399806, 39.968115 116.399831, 39.968129 116.39983, 39.968129 116.39983, 39.96813 116.399826, 39.96813 116.399817, 39.968129 116.399827, 39.968129 116.399827, 39.96813 116.399821, 39.968152 116.399779, 39.968183 116.399748, 39.968181 116.399712, 39.968191 116.399719, 39.968192 116.39972, 39.968192 116.39972, 39.968192 116.399716, 39.968198 116.399687, 39.968195 116.399654, 39.968197 116.399634, 39.968197 116.399634, 39.968198 116.399633, 39.968215 116.399592, 39.968216 116.399607, 39.968216 116.399612, 39.968216 116.399614, 39.968216 116.399614, 39.968215 116.399614, 39.968213 116.399636, 39.968204 116.399637, 39.968204 116.399637, 39.968205 116.399636, 39.968202 116.399649, 39.968202 116.399659, 39.968202 116.399659, 39.968201 116.399665, 39.9682 116.399674, 39.9682 116.399674, 39.968201 116.399666, 39.96821 116.399657, 39.968213 116.399642, 39.968233 116.399651, 39.968233 116.399651, 39.968234 116.399644, 39.968224 116.399619, 39.968224 116.399619, 39.968227 116.399616, 39.968229 116.399604, 39.968229 116.399615, 39.968229 116.399615, 39.968231 116.399611, 39.968234 116.399597, 39.968241 116.399579, 39.968263 116.39955, 39.968304 116.399516, 39.968349 116.399513, 39.968319 116.399557, 39.968317 116.399568, 39.968317 116.399572, 39.968317 116.399578, 39.968317 116.399578, 39.968318 116.399578, 39.968336 116.399538, 39.968356 116.399502, 39.968356 116.399467, 39.968349 116.399482, 39.968318 116.399512, 39.968274 116.399549, 39.968228 116.399568, 39.968228 116.399568, 39.968227 116.399565, 39.968215 116.399571, 39.968186 116.399596, 39.968144 116.399562, 39.968113 116.399559, 39.968078 116.399572, 39.968078 116.399572, 39.968072 116.399578, 39.968088 116.399593, 39.968077 116.399598, 39.968064 116.399598, 39.968052 116.39959, 39.968052 116.399589, 39.968051 116.399597, 39.968051 116.399597, 39.96805 116.399595, 39.96805 116.399607, 39.96805 116.399607, 39.96805 116.399606, 39.968056 116.399581, 39.968091 116.399568, 39.968102 116.399571, 39.968101 116.399582, 39.968101 116.399587, 39.968102 116.399582, 39.96789 116.399497, 39.967829 116.399508, 39.967772 116.39951, 39.967771 116.39952, 39.967769 116.399531, 39.967767 116.399542, 39.96774 116.399572, 39.967702 116.399606, 39.967678 116.399614, 39.96766 116.399577, 39.967681 116.399569, 39.967683 116.399566, 39.967683 116.399566, 39.967686 116.399566, 39.967688 116.399579, 39.967736 116.399592, 39.9678 116.399606, 39.967829 116.399605, 39.967881 116.399588, 39.967933 116.399573, 39.967985 116.399568, 39.968026 116.399561, 39.968078 116.399534, 39.968123 116.399519, 39.968132 116.399528, 39.968142 116.399537, 39.968138 116.39955, 39.968128 116.399548, 39.968115 116.399561, 39.968132 116.399603, 39.968169 116.399645, 39.968232 116.399661, 39.968276 116.399679, 39.968327 116.399708, 39.968369 116.399748, 39.968414 116.399785, 39.968449 116.399803, 39.968393 116.399799, 39.968355 116.39983, 39.968393 116.399883, 39.968399 116.399904, 39.968339 116.399873, 39.968294 116.399852, 39.968307 116.399854, 39.968303 116.399849, 39.968301 116.399841, 39.9683 116.399844, 39.9683 116.399844, 39.9683 116.399838, 39.968298 116.399825, 39.968296 116.399811, 39.968295 116.399796, 39.96827 116.399743, 39.968252 116.399654, 39.968209 116.399587, 39.968175 116.399523, 39.968127 116.399451, 39.968103 116.399396, 39.968073 116.399326, 39.968054 116.399255, 39.968009 116.399206, 39.967957 116.399184, 39.967938 116.399188, 39.968001 116.399207, 39.968045 116.399231, 39.968021 116.399223, 39.968024 116.399205, 39.968062 116.399169, 39.968065 116.399109, 39.968048 116.399098, 39.968059 116.399063, 39.968077 116.399017, 39.968093 116.39903, 39.968102 116.399034, 39.968103 116.399027, 39.968103 116.399027, 39.968102 116.399025, 39.968099 116.399068, 39.968106 116.399008, 39.96811 116.398984, 39.968115 116.398964, 39.968115 116.398964, 39.968117 116.398968, 39.968132 116.399031, 39.968151 116.399086, 39.968171 116.399142, 39.968191 116.399198, 39.968231 116.39928, 39.968263 116.399345, 39.968275 116.399406, 39.968297 116.39946, 39.968314 116.399503, 39.968326 116.399525, 39.968294 116.399515, 39.96827 116.399489, 39.968231 116.399449, 39.968193 116.399401, 39.968158 116.399358, 39.968139 116.39936, 39.968139 116.39936, 39.968139 116.399361, 39.968103 116.399318, 39.968081 116.399303, 39.96808 116.399303, 39.96808 116.399306, 39.968082 116.3993, 39.968081 116.399297, 39.968081 116.399297, 39.968082 116.399296, 39.968085 116.399316, 39.968085 116.399316, 39.968084 116.39932, 39.968081 116.39933, 39.968044 116.39938, 39.968018 116.399416, 39.967961 116.399458, 39.96793 116.39948, 39.967897 116.399524, 39.967874 116.399538, 39.967874 116.399529, 39.967875 116.399545, 39.967872 116.399563, 39.967872 116.399564, 39.967872 116.399564, 39.967872 116.399572, 39.967873 116.399584, 39.967873 116.399584, 39.967875 116.399579, 39.967931 116.399571, 39.967979 116.399568, 39.96804 116.399568, 39.968108 116.399565, 39.968161 116.39957, 39.968221 116.399583, 39.968316 116.39961, 39.968388 116.399643, 39.968462 116.399672, 39.968416 116.399681, 39.968344 116.39967, 39.968255 116.399644, 39.968232 116.399627, 39.9682 116.399915, 39.968243 116.39992, 39.968257 116.399971, 39.968223 116.399879, 39.968215 116.399836, 39.968219 116.399811, 39.96824 116.399846, 39.968275 116.399884, 39.968324 116.399912, 39.968379 116.399928, 39.968336 116.399906, 39.968292 116.399867, 39.968253 116.399821, 39.968207 116.399794, 39.96817 116.399772, 39.968208 116.399759, 39.968263 116.399763, 39.968316 116.399788, 39.96829 116.399784, 39.968251 116.399769, 39.968191 116.399729, 39.968154 116.399697, 39.968171 116.39968, 39.968151 116.399645, 39.968167 116.399597, 39.968196 116.399581, 39.968198 116.399593, 39.968193 116.399571, 39.968193 116.399571, 39.968193 116.399573, 39.968192 116.399593, 39.968166 116.399577, 39.968134 116.399626, 39.968134 116.399626, 39.968134 116.399626, 39.968119 116.399582, 39.968156 116.39956, 39.968156 116.39956, 39.968152 116.399553, 39.968182 116.399568, 39.968209 116.399567, 39.968259 116.399598, 39.968316 116.399611, 39.968381 116.399615, 39.968432 116.399612, 39.968472 116.399602, 39.968517 116.39957, 39.968564 116.39952, 39.968605 116.399487, 39.968642 116.399464, 39.968661 116.399503, 39.968674 116.399563, 39.968679 116.399624, 39.968697 116.399687, 39.968725 116.399751, 39.96877 116.399795, 39.968807 116.399835, 39.968865 116.39984, 39.968896 116.399842, 39.968905 116.399821, 39.968931 116.399815, 39.968918 116.399829, 39.968865 116.399847, 39.968819 116.399868, 39.968778 116.399889, 39.968735 116.399896, 39.968672 116.399885, 39.968619 116.399888, 39.968583 116.399902, 39.968575 116.399919, 39.96855 116.39993, 39.96854 116.399921, 39.968526 116.399931, 39.968492 116.399953, 39.968502 116.399968, 39.968529 116.399966, 39.968541 116.39996, 39.968573 116.399925, 39.968618 116.399893, 39.96865 116.39987, 39.968633 116.399871, 39.968584 116.399876, 39.96853 116.399876, 39.968484 116.399881, 39.968428 116.399896, 39.968382 116.399923, 39.968345 116.399935, 39.968328 116.399916, 39.968327 116.399904, 39.968322 116.399862, 39.968322 116.399852, 39.968277 116.399848, 39.968224 116.399844, 39.968179 116.399848, 39.968141 116.399853, 39.968141 116.399853, 39.968142 116.399856, 39.96818 116.399884, 39.968231 116.399911, 39.968277 116.399931, 39.968317 116.399958, 39.968351 116.399997, 39.968387 116.400046, 39.968433 116.400088, 39.968428 116.400154, 39.968417 116.400207, 39.968424 116.400221, 39.968424 116.400232, 39.968453 116.400234, 39.968468 116.400188, 39.968486 116.400116, 39.968505 116.400051, 39.968513 116.39997, 39.968504 116.399906, 39.968489 116.399837, 39.968487 116.399818, 39.968487 116.399818, 39.968486 116.399815, 39.968445 116.399786, 39.968418 116.399772, 39.968386 116.399759)\n"
     ]
    }
   ],
   "source": [
    "print(all_linestring[0])"
   ]
  },
  {
   "cell_type": "code",
   "execution_count": 81,
   "id": "126574d6",
   "metadata": {},
   "outputs": [],
   "source": [
    "s3 = geopandas.GeoSeries(all_linestring, index=all_traid, crs=4326)"
   ]
  },
  {
   "cell_type": "code",
   "execution_count": 306,
   "id": "ac929b75",
   "metadata": {},
   "outputs": [
    {
     "data": {
      "text/plain": [
       "175"
      ]
     },
     "execution_count": 306,
     "metadata": {},
     "output_type": "execute_result"
    }
   ],
   "source": [
    "len(s3.sindex.query(box(39.974294, 116.399741, 39.97777, 116.4), predicate='intersects'))"
   ]
  },
  {
   "cell_type": "code",
   "execution_count": 85,
   "id": "cef8605f",
   "metadata": {},
   "outputs": [
    {
     "data": {
      "text/plain": [
       "29"
      ]
     },
     "execution_count": 85,
     "metadata": {},
     "output_type": "execute_result"
    }
   ],
   "source": [
    "len(s3.sindex.query(box(1, 3, 117, 40), predicate='contains'))"
   ]
  }
 ],
 "metadata": {
  "kernelspec": {
   "display_name": "Python 3 (ipykernel)",
   "language": "python",
   "name": "python3"
  },
  "language_info": {
   "codemirror_mode": {
    "name": "ipython",
    "version": 3
   },
   "file_extension": ".py",
   "mimetype": "text/x-python",
   "name": "python",
   "nbconvert_exporter": "python",
   "pygments_lexer": "ipython3",
   "version": "3.11.3"
  }
 },
 "nbformat": 4,
 "nbformat_minor": 5
}
